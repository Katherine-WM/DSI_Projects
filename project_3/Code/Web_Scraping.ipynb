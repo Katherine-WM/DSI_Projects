{
 "cells": [
  {
   "cell_type": "markdown",
   "metadata": {},
   "source": [
    "# Web Scraping "
   ]
  },
  {
   "cell_type": "markdown",
   "metadata": {},
   "source": [
    "## Pulling Data From Reddit"
   ]
  },
  {
   "cell_type": "code",
   "execution_count": 2,
   "metadata": {},
   "outputs": [],
   "source": [
    "import requests\n",
    "import pandas as pd\n",
    "import time\n",
    "import random"
   ]
  },
  {
   "cell_type": "code",
   "execution_count": 9,
   "metadata": {},
   "outputs": [],
   "source": [
    "url_um = 'https://www.reddit.com/r/UnresolvedMysteries.json'"
   ]
  },
  {
   "cell_type": "code",
   "execution_count": 1,
   "metadata": {},
   "outputs": [],
   "source": [
    "url_coldcases = 'https://www.reddit.com/r/coldcases.json'"
   ]
  },
  {
   "cell_type": "markdown",
   "metadata": {},
   "source": [
    "Defining our web scrapping function"
   ]
  },
  {
   "cell_type": "code",
   "execution_count": 3,
   "metadata": {},
   "outputs": [],
   "source": [
    "def web_scrapper(subreddit, url):\n",
    "    posts = []\n",
    "    after = None\n",
    "\n",
    "    for a in range(50):\n",
    "\n",
    "        # function to update url\n",
    "        if after == None:\n",
    "            current_url = url\n",
    "        else:\n",
    "            current_url = url+'?after='+after\n",
    "        print(current_url)\n",
    "    \n",
    "        # check for status code==200 to make sure we are doing good\n",
    "        response = requests.get(current_url, headers={'User-agent': 'Pony Inc 1.0'})\n",
    "        if response.status_code != 200:\n",
    "            print('Error in getting response')\n",
    "            break\n",
    "    \n",
    "        reddit_dictionary = response.json()\n",
    "        reddit_posts = [p['data'] for p in reddit_dictionary['data']['children']]\n",
    "        posts.extend(reddit_posts)\n",
    "        after = reddit_dictionary['data']['after']\n",
    "    \n",
    "        sleep_duration = random.randint(2,6)\n",
    "        print(sleep_duration)\n",
    "        print(len(posts))\n",
    "        time.sleep(sleep_duration)\n",
    "    pd.DataFrame(posts).to_csv(subreddit, index=False)"
   ]
  },
  {
   "cell_type": "code",
   "execution_count": 14,
   "metadata": {
    "collapsed": true
   },
   "outputs": [
    {
     "name": "stdout",
     "output_type": "stream",
     "text": [
      "https://www.reddit.com/r/UnresolvedMysteries.json\n",
      "5\n",
      "26\n",
      "https://www.reddit.com/r/UnresolvedMysteries.json?after=t3_k0kkhv\n",
      "6\n",
      "51\n",
      "https://www.reddit.com/r/UnresolvedMysteries.json?after=t3_jz6q8n\n",
      "5\n",
      "76\n",
      "https://www.reddit.com/r/UnresolvedMysteries.json?after=t3_jy1irm\n",
      "4\n",
      "101\n",
      "https://www.reddit.com/r/UnresolvedMysteries.json?after=t3_jwkkkv\n",
      "4\n",
      "126\n",
      "https://www.reddit.com/r/UnresolvedMysteries.json?after=t3_jviau2\n",
      "6\n",
      "151\n",
      "https://www.reddit.com/r/UnresolvedMysteries.json?after=t3_jtqy9q\n",
      "3\n",
      "176\n",
      "https://www.reddit.com/r/UnresolvedMysteries.json?after=t3_jrxzey\n",
      "4\n",
      "201\n",
      "https://www.reddit.com/r/UnresolvedMysteries.json?after=t3_jpx08g\n",
      "4\n",
      "226\n",
      "https://www.reddit.com/r/UnresolvedMysteries.json?after=t3_jnsqdo\n",
      "5\n",
      "251\n",
      "https://www.reddit.com/r/UnresolvedMysteries.json?after=t3_jllcl8\n",
      "5\n",
      "276\n",
      "https://www.reddit.com/r/UnresolvedMysteries.json?after=t3_jjqs53\n",
      "2\n",
      "301\n",
      "https://www.reddit.com/r/UnresolvedMysteries.json?after=t3_jih30p\n",
      "5\n",
      "326\n",
      "https://www.reddit.com/r/UnresolvedMysteries.json?after=t3_jgr802\n",
      "3\n",
      "351\n",
      "https://www.reddit.com/r/UnresolvedMysteries.json?after=t3_jew3sw\n",
      "4\n",
      "376\n",
      "https://www.reddit.com/r/UnresolvedMysteries.json?after=t3_jdcjyj\n",
      "4\n",
      "401\n",
      "https://www.reddit.com/r/UnresolvedMysteries.json?after=t3_jbswi8\n",
      "4\n",
      "426\n",
      "https://www.reddit.com/r/UnresolvedMysteries.json?after=t3_j9x6pr\n",
      "4\n",
      "451\n",
      "https://www.reddit.com/r/UnresolvedMysteries.json?after=t3_j7g0f5\n",
      "3\n",
      "476\n",
      "https://www.reddit.com/r/UnresolvedMysteries.json?after=t3_j67ain\n",
      "2\n",
      "501\n",
      "https://www.reddit.com/r/UnresolvedMysteries.json?after=t3_j5dqmk\n",
      "4\n",
      "526\n",
      "https://www.reddit.com/r/UnresolvedMysteries.json?after=t3_j3eixy\n",
      "5\n",
      "551\n",
      "https://www.reddit.com/r/UnresolvedMysteries.json?after=t3_j17hc8\n",
      "5\n",
      "570\n",
      "https://www.reddit.com/r/UnresolvedMysteries.json\n",
      "3\n",
      "596\n",
      "https://www.reddit.com/r/UnresolvedMysteries.json?after=t3_k0kkhv\n",
      "5\n",
      "621\n",
      "https://www.reddit.com/r/UnresolvedMysteries.json?after=t3_jz6q8n\n",
      "3\n",
      "646\n",
      "https://www.reddit.com/r/UnresolvedMysteries.json?after=t3_jy1irm\n",
      "5\n",
      "671\n",
      "https://www.reddit.com/r/UnresolvedMysteries.json?after=t3_jwkkkv\n",
      "4\n",
      "696\n",
      "https://www.reddit.com/r/UnresolvedMysteries.json?after=t3_jviau2\n",
      "6\n",
      "721\n",
      "https://www.reddit.com/r/UnresolvedMysteries.json?after=t3_jtqy9q\n",
      "5\n",
      "746\n",
      "https://www.reddit.com/r/UnresolvedMysteries.json?after=t3_jrxzey\n",
      "3\n",
      "771\n",
      "https://www.reddit.com/r/UnresolvedMysteries.json?after=t3_jpx08g\n",
      "6\n",
      "796\n",
      "https://www.reddit.com/r/UnresolvedMysteries.json?after=t3_jnsqdo\n",
      "6\n",
      "821\n",
      "https://www.reddit.com/r/UnresolvedMysteries.json?after=t3_jllcl8\n",
      "5\n",
      "846\n",
      "https://www.reddit.com/r/UnresolvedMysteries.json?after=t3_jjqs53\n",
      "2\n",
      "871\n",
      "https://www.reddit.com/r/UnresolvedMysteries.json?after=t3_jih30p\n",
      "4\n",
      "896\n",
      "https://www.reddit.com/r/UnresolvedMysteries.json?after=t3_jgr802\n",
      "2\n",
      "921\n",
      "https://www.reddit.com/r/UnresolvedMysteries.json?after=t3_jew3sw\n",
      "5\n",
      "946\n",
      "https://www.reddit.com/r/UnresolvedMysteries.json?after=t3_jdcjyj\n",
      "5\n",
      "971\n",
      "https://www.reddit.com/r/UnresolvedMysteries.json?after=t3_jbswi8\n",
      "6\n",
      "996\n",
      "https://www.reddit.com/r/UnresolvedMysteries.json?after=t3_j9x6pr\n",
      "5\n",
      "1021\n",
      "https://www.reddit.com/r/UnresolvedMysteries.json?after=t3_j7g0f5\n",
      "3\n",
      "1046\n",
      "https://www.reddit.com/r/UnresolvedMysteries.json?after=t3_j67ain\n",
      "5\n",
      "1071\n",
      "https://www.reddit.com/r/UnresolvedMysteries.json?after=t3_j5dqmk\n",
      "2\n",
      "1096\n",
      "https://www.reddit.com/r/UnresolvedMysteries.json?after=t3_j3eixy\n",
      "5\n",
      "1121\n",
      "https://www.reddit.com/r/UnresolvedMysteries.json?after=t3_j17hc8\n",
      "4\n",
      "1140\n",
      "https://www.reddit.com/r/UnresolvedMysteries.json\n",
      "2\n",
      "1166\n",
      "https://www.reddit.com/r/UnresolvedMysteries.json?after=t3_k0kkhv\n",
      "6\n",
      "1191\n",
      "https://www.reddit.com/r/UnresolvedMysteries.json?after=t3_jz6q8n\n",
      "5\n",
      "1216\n",
      "https://www.reddit.com/r/UnresolvedMysteries.json?after=t3_jy1irm\n",
      "3\n",
      "1241\n"
     ]
    }
   ],
   "source": [
    "web_scrapper('unsolved_mystery', url_um)"
   ]
  },
  {
   "cell_type": "code",
   "execution_count": 4,
   "metadata": {
    "collapsed": true
   },
   "outputs": [
    {
     "name": "stdout",
     "output_type": "stream",
     "text": [
      "https://www.reddit.com/r/coldcases.json\n",
      "3\n",
      "25\n",
      "https://www.reddit.com/r/coldcases.json?after=t3_jc041h\n",
      "4\n",
      "50\n",
      "https://www.reddit.com/r/coldcases.json?after=t3_ivhsxg\n",
      "5\n",
      "75\n",
      "https://www.reddit.com/r/coldcases.json?after=t3_i093nr\n",
      "5\n",
      "100\n",
      "https://www.reddit.com/r/coldcases.json?after=t3_h0qsms\n",
      "6\n",
      "125\n",
      "https://www.reddit.com/r/coldcases.json?after=t3_f4ua16\n",
      "4\n",
      "150\n",
      "https://www.reddit.com/r/coldcases.json?after=t3_eq59bk\n",
      "6\n",
      "175\n",
      "https://www.reddit.com/r/coldcases.json?after=t3_e80moc\n",
      "5\n",
      "200\n",
      "https://www.reddit.com/r/coldcases.json?after=t3_du29eo\n",
      "3\n",
      "225\n",
      "https://www.reddit.com/r/coldcases.json?after=t3_d3etux\n",
      "4\n",
      "250\n",
      "https://www.reddit.com/r/coldcases.json?after=t3_ct3g4n\n",
      "2\n",
      "259\n",
      "https://www.reddit.com/r/coldcases.json\n",
      "5\n",
      "284\n",
      "https://www.reddit.com/r/coldcases.json?after=t3_jc041h\n",
      "2\n",
      "309\n",
      "https://www.reddit.com/r/coldcases.json?after=t3_ivhsxg\n",
      "6\n",
      "334\n",
      "https://www.reddit.com/r/coldcases.json?after=t3_i093nr\n",
      "2\n",
      "359\n",
      "https://www.reddit.com/r/coldcases.json?after=t3_h0qsms\n",
      "2\n",
      "384\n",
      "https://www.reddit.com/r/coldcases.json?after=t3_f4ua16\n",
      "3\n",
      "409\n",
      "https://www.reddit.com/r/coldcases.json?after=t3_eq59bk\n",
      "4\n",
      "434\n",
      "https://www.reddit.com/r/coldcases.json?after=t3_e80moc\n",
      "5\n",
      "459\n",
      "https://www.reddit.com/r/coldcases.json?after=t3_du29eo\n",
      "3\n",
      "484\n",
      "https://www.reddit.com/r/coldcases.json?after=t3_d3etux\n",
      "3\n",
      "509\n",
      "https://www.reddit.com/r/coldcases.json?after=t3_ct3g4n\n",
      "5\n",
      "518\n",
      "https://www.reddit.com/r/coldcases.json\n",
      "4\n",
      "543\n",
      "https://www.reddit.com/r/coldcases.json?after=t3_jc041h\n",
      "3\n",
      "568\n",
      "https://www.reddit.com/r/coldcases.json?after=t3_ivhsxg\n",
      "3\n",
      "593\n",
      "https://www.reddit.com/r/coldcases.json?after=t3_i093nr\n",
      "6\n",
      "618\n",
      "https://www.reddit.com/r/coldcases.json?after=t3_h0qsms\n",
      "4\n",
      "643\n",
      "https://www.reddit.com/r/coldcases.json?after=t3_f4ua16\n",
      "4\n",
      "668\n",
      "https://www.reddit.com/r/coldcases.json?after=t3_eq59bk\n",
      "3\n",
      "693\n",
      "https://www.reddit.com/r/coldcases.json?after=t3_e80moc\n",
      "6\n",
      "718\n",
      "https://www.reddit.com/r/coldcases.json?after=t3_du29eo\n",
      "5\n",
      "743\n",
      "https://www.reddit.com/r/coldcases.json?after=t3_d3etux\n",
      "3\n",
      "768\n",
      "https://www.reddit.com/r/coldcases.json?after=t3_ct3g4n\n",
      "6\n",
      "777\n",
      "https://www.reddit.com/r/coldcases.json\n",
      "2\n",
      "802\n",
      "https://www.reddit.com/r/coldcases.json?after=t3_jc041h\n",
      "2\n",
      "827\n",
      "https://www.reddit.com/r/coldcases.json?after=t3_ivhsxg\n",
      "6\n",
      "852\n",
      "https://www.reddit.com/r/coldcases.json?after=t3_i093nr\n",
      "3\n",
      "877\n",
      "https://www.reddit.com/r/coldcases.json?after=t3_h0qsms\n",
      "6\n",
      "902\n",
      "https://www.reddit.com/r/coldcases.json?after=t3_f4ua16\n",
      "6\n",
      "927\n",
      "https://www.reddit.com/r/coldcases.json?after=t3_eq59bk\n",
      "6\n",
      "952\n",
      "https://www.reddit.com/r/coldcases.json?after=t3_e80moc\n",
      "3\n",
      "977\n",
      "https://www.reddit.com/r/coldcases.json?after=t3_du29eo\n",
      "6\n",
      "1002\n",
      "https://www.reddit.com/r/coldcases.json?after=t3_d3etux\n",
      "4\n",
      "1027\n",
      "https://www.reddit.com/r/coldcases.json?after=t3_ct3g4n\n",
      "5\n",
      "1036\n",
      "https://www.reddit.com/r/coldcases.json\n",
      "6\n",
      "1061\n",
      "https://www.reddit.com/r/coldcases.json?after=t3_jc041h\n",
      "2\n",
      "1086\n",
      "https://www.reddit.com/r/coldcases.json?after=t3_ivhsxg\n",
      "3\n",
      "1111\n",
      "https://www.reddit.com/r/coldcases.json?after=t3_i093nr\n",
      "4\n",
      "1136\n",
      "https://www.reddit.com/r/coldcases.json?after=t3_h0qsms\n",
      "2\n",
      "1161\n",
      "https://www.reddit.com/r/coldcases.json?after=t3_f4ua16\n",
      "6\n",
      "1186\n"
     ]
    }
   ],
   "source": [
    "web_scrapper('cold_cases', url_coldcases)"
   ]
  },
  {
   "cell_type": "markdown",
   "metadata": {},
   "source": [
    "## Initial Data Cleaning"
   ]
  },
  {
   "cell_type": "code",
   "execution_count": 3,
   "metadata": {},
   "outputs": [],
   "source": [
    "unslvd_mystery = pd.read_csv('../Data/unsolved_mystery')"
   ]
  },
  {
   "cell_type": "code",
   "execution_count": 4,
   "metadata": {},
   "outputs": [
    {
     "data": {
      "text/plain": [
       "(1241, 105)"
      ]
     },
     "execution_count": 4,
     "metadata": {},
     "output_type": "execute_result"
    }
   ],
   "source": [
    "unslvd_mystery.shape"
   ]
  },
  {
   "cell_type": "code",
   "execution_count": 5,
   "metadata": {},
   "outputs": [],
   "source": [
    "unslvd_mystery.drop_duplicates(subset=None, keep='first', inplace=True, ignore_index=True)"
   ]
  },
  {
   "cell_type": "code",
   "execution_count": 6,
   "metadata": {},
   "outputs": [
    {
     "data": {
      "text/plain": [
       "(1205, 105)"
      ]
     },
     "execution_count": 6,
     "metadata": {},
     "output_type": "execute_result"
    }
   ],
   "source": [
    "unslvd_mystery.shape"
   ]
  },
  {
   "cell_type": "code",
   "execution_count": 7,
   "metadata": {},
   "outputs": [],
   "source": [
    "coldcases = pd.read_csv('../Data/cold_cases')"
   ]
  },
  {
   "cell_type": "code",
   "execution_count": 8,
   "metadata": {},
   "outputs": [
    {
     "data": {
      "text/plain": [
       "(1186, 110)"
      ]
     },
     "execution_count": 8,
     "metadata": {},
     "output_type": "execute_result"
    }
   ],
   "source": [
    "coldcases.shape"
   ]
  },
  {
   "cell_type": "code",
   "execution_count": 9,
   "metadata": {},
   "outputs": [],
   "source": [
    "coldcases.drop_duplicates(subset=None, keep='first', inplace=True, ignore_index=True)"
   ]
  },
  {
   "cell_type": "code",
   "execution_count": 10,
   "metadata": {},
   "outputs": [
    {
     "data": {
      "text/plain": [
       "(941, 110)"
      ]
     },
     "execution_count": 10,
     "metadata": {},
     "output_type": "execute_result"
    }
   ],
   "source": [
    "coldcases.shape"
   ]
  },
  {
   "cell_type": "markdown",
   "metadata": {},
   "source": [
    "- Drop the first row from each subreddit because they are the announcements from moderator. \n",
    "- Also notice that there are a few posts from reddit moderator, we will remove them from our analysis. \n",
    "- Drop one low effect post from paranormal subreddit"
   ]
  },
  {
   "cell_type": "code",
   "execution_count": 11,
   "metadata": {},
   "outputs": [],
   "source": [
    "unslvd_mystery.drop(index=0, inplace=True)"
   ]
  },
  {
   "cell_type": "markdown",
   "metadata": {},
   "source": [
    "Since number of features are not the same for two dataset, let's take a look at the differences. "
   ]
  },
  {
   "cell_type": "code",
   "execution_count": 12,
   "metadata": {},
   "outputs": [],
   "source": [
    "mystery_features = list(unslvd_mystery.columns)\n",
    "coldcases_features = list(coldcases.columns)"
   ]
  },
  {
   "cell_type": "code",
   "execution_count": 13,
   "metadata": {},
   "outputs": [
    {
     "data": {
      "text/plain": [
       "['collections', 'author_cakeday']"
      ]
     },
     "execution_count": 13,
     "metadata": {},
     "output_type": "execute_result"
    }
   ],
   "source": [
    "extra_feat_frm_mystery = [i for i in mystery_features if i not in coldcases_features]\n",
    "extra_feat_frm_mystery"
   ]
  },
  {
   "cell_type": "code",
   "execution_count": 14,
   "metadata": {},
   "outputs": [
    {
     "data": {
      "text/plain": [
       "['thumbnail_height',\n",
       " 'thumbnail_width',\n",
       " 'post_hint',\n",
       " 'preview',\n",
       " 'crosspost_parent_list',\n",
       " 'url_overridden_by_dest',\n",
       " 'crosspost_parent']"
      ]
     },
     "execution_count": 14,
     "metadata": {},
     "output_type": "execute_result"
    }
   ],
   "source": [
    "extra_feat_frm_coldcase = [i for i in coldcases_features if i not in mystery_features]\n",
    "extra_feat_frm_coldcase"
   ]
  },
  {
   "cell_type": "markdown",
   "metadata": {},
   "source": [
    "After examining the extra features from each dataset, it is observed that they contain irrelevant information on the content of the posts. Therefore, we drop them. "
   ]
  },
  {
   "cell_type": "code",
   "execution_count": 15,
   "metadata": {},
   "outputs": [],
   "source": [
    "unslvd_mystery.drop(columns = extra_feat_frm_mystery, inplace=True)"
   ]
  },
  {
   "cell_type": "code",
   "execution_count": 16,
   "metadata": {},
   "outputs": [],
   "source": [
    "coldcases.drop(columns = extra_feat_frm_coldcase, inplace=True)"
   ]
  },
  {
   "cell_type": "code",
   "execution_count": 22,
   "metadata": {},
   "outputs": [],
   "source": [
    "unslvd_mystery.dropna(subset=['selftext'], inplace=True)\n",
    "coldcases.dropna(subset=['selftext'], inplace=True)"
   ]
  },
  {
   "cell_type": "code",
   "execution_count": 30,
   "metadata": {},
   "outputs": [
    {
     "data": {
      "text/plain": [
       "(650, 103)"
      ]
     },
     "execution_count": 30,
     "metadata": {},
     "output_type": "execute_result"
    }
   ],
   "source": [
    "unslvd_mystery.shape"
   ]
  },
  {
   "cell_type": "code",
   "execution_count": 24,
   "metadata": {},
   "outputs": [
    {
     "data": {
      "text/plain": [
       "(624, 103)"
      ]
     },
     "execution_count": 24,
     "metadata": {},
     "output_type": "execute_result"
    }
   ],
   "source": [
    "coldcases.shape"
   ]
  },
  {
   "cell_type": "markdown",
   "metadata": {},
   "source": [
    "Let's drop some rows from unresolved mysteries to make sure we have a balanced dataset"
   ]
  },
  {
   "cell_type": "code",
   "execution_count": 29,
   "metadata": {},
   "outputs": [],
   "source": [
    "unslvd_mystery = unslvd_mystery[0:650]"
   ]
  },
  {
   "cell_type": "code",
   "execution_count": 31,
   "metadata": {},
   "outputs": [
    {
     "data": {
      "text/plain": [
       "(650, 103)"
      ]
     },
     "execution_count": 31,
     "metadata": {},
     "output_type": "execute_result"
    }
   ],
   "source": [
    "unslvd_mystery.shape"
   ]
  },
  {
   "cell_type": "markdown",
   "metadata": {},
   "source": [
    "Finally, we combine data and save it to .csv file for our analysis. "
   ]
  },
  {
   "cell_type": "code",
   "execution_count": 32,
   "metadata": {},
   "outputs": [],
   "source": [
    "all_posts2 = pd.concat([unslvd_mystery, coldcases])"
   ]
  },
  {
   "cell_type": "code",
   "execution_count": 33,
   "metadata": {},
   "outputs": [],
   "source": [
    "all_posts2.to_csv('../Data/all_posts2', index=False)"
   ]
  }
 ],
 "metadata": {
  "kernelspec": {
   "display_name": "Python 3",
   "language": "python",
   "name": "python3"
  },
  "language_info": {
   "codemirror_mode": {
    "name": "ipython",
    "version": 3
   },
   "file_extension": ".py",
   "mimetype": "text/x-python",
   "name": "python",
   "nbconvert_exporter": "python",
   "pygments_lexer": "ipython3",
   "version": "3.8.3"
  },
  "toc": {
   "base_numbering": 1,
   "nav_menu": {},
   "number_sections": true,
   "sideBar": true,
   "skip_h1_title": true,
   "title_cell": "Table of Contents",
   "title_sidebar": "Contents",
   "toc_cell": false,
   "toc_position": {},
   "toc_section_display": true,
   "toc_window_display": true
  }
 },
 "nbformat": 4,
 "nbformat_minor": 2
}
