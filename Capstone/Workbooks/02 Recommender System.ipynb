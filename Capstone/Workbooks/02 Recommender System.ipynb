{
 "cells": [
  {
   "cell_type": "markdown",
   "metadata": {},
   "source": [
    "# Recommender System\n",
    "## Prerequisites"
   ]
  },
  {
   "cell_type": "code",
   "execution_count": 41,
   "metadata": {
    "ExecuteTime": {
     "end_time": "2021-01-26T12:27:14.248725Z",
     "start_time": "2021-01-26T12:27:14.216855Z"
    }
   },
   "outputs": [],
   "source": [
    "# Data manipulation\n",
    "import numpy as np\n",
    "import pandas as pd\n",
    "from datetime import datetime\n",
    "\n",
    "# NLP\n",
    "from nltk.corpus import stopwords\n",
    "from nltk.tokenize import word_tokenize\n",
    "from sklearn.feature_extraction.text import CountVectorizer, TfidfVectorizer\n",
    "\n",
    "# Machine Learning\n",
    "from sklearn.metrics.pairwise import cosine_similarity, euclidean_distances\n",
    "from sklearn.metrics import mean_squared_error, mean_absolute_error, cohen_kappa_score,precision_score,average_precision_score\n",
    "from surprise.prediction_algorithms import SVD\n",
    "from surprise import Reader, Dataset\n",
    "from surprise.model_selection import train_test_split, GridSearchCV\n",
    "from surprise import accuracy\n",
    "from surprise.model_selection import KFold\n",
    "from collections import defaultdict, Counter\n",
    "from itertools import combinations\n",
    "\n",
    "# Neural Network\n",
    "import tensorflow as tf\n",
    "from tensorflow import keras\n",
    "from tensorflow.keras.layers import Input, Embedding, Reshape, Dot, Concatenate, Dense, Dropout\n",
    "from tensorflow.keras.models import Model, Sequential\n",
    "from tensorflow.keras.callbacks import EarlyStopping\n",
    "from scipy.sparse import vstack\n",
    "\n",
    "# Plotting\n",
    "import matplotlib.pyplot as plt\n",
    "%matplotlib inline\n",
    "import seaborn as sns\n",
    "sns.set_context(\"paper\")\n",
    "sns.set_style('darkgrid')\n",
    "\n",
    "# Miscellaneous\n",
    "pd.set_option('max_columns', 40)\n",
    "pd.set_option('max_colwidth', 99)"
   ]
  },
  {
   "cell_type": "code",
   "execution_count": 42,
   "metadata": {
    "ExecuteTime": {
     "end_time": "2021-01-26T12:27:15.348631Z",
     "start_time": "2021-01-26T12:27:14.251303Z"
    }
   },
   "outputs": [],
   "source": [
    "combined = pd.read_csv('../Dataset/combined.csv')"
   ]
  },
  {
   "cell_type": "code",
   "execution_count": 43,
   "metadata": {
    "ExecuteTime": {
     "end_time": "2021-01-26T12:27:15.380813Z",
     "start_time": "2021-01-26T12:27:15.349971Z"
    }
   },
   "outputs": [],
   "source": [
    "combined.drop(columns=['name_y'], inplace=True)"
   ]
  },
  {
   "cell_type": "code",
   "execution_count": 44,
   "metadata": {
    "ExecuteTime": {
     "end_time": "2021-01-26T12:27:15.384414Z",
     "start_time": "2021-01-26T12:27:15.382084Z"
    }
   },
   "outputs": [],
   "source": [
    "combined.rename(columns={'name_x':'name'}, inplace=True)"
   ]
  },
  {
   "cell_type": "code",
   "execution_count": 45,
   "metadata": {
    "ExecuteTime": {
     "end_time": "2021-01-26T12:27:16.201244Z",
     "start_time": "2021-01-26T12:27:15.385372Z"
    }
   },
   "outputs": [],
   "source": [
    "games = pd.read_csv('../Dataset/game_info.csv')\n",
    "users = pd.read_csv('../Dataset/user_info.csv')"
   ]
  },
  {
   "cell_type": "markdown",
   "metadata": {},
   "source": [
    "## Appetizer\n",
    "**Applying cosine similarity on name and description.**\n",
    "The easiest and fastest way is to build a cosine similarity matrix of name and game description and recommend the most similar games base on how similar the game name and descriptions are. In this way, our engine will always recommend games which are in the same series or games that are having the same storyline as the games already played by users. "
   ]
  },
  {
   "cell_type": "code",
   "execution_count": 46,
   "metadata": {
    "ExecuteTime": {
     "end_time": "2021-01-26T12:27:16.223609Z",
     "start_time": "2021-01-26T12:27:16.202158Z"
    }
   },
   "outputs": [],
   "source": [
    "games['name_n_descr'] = games['name_clean']+games['descr_clean']"
   ]
  },
  {
   "cell_type": "code",
   "execution_count": 47,
   "metadata": {
    "ExecuteTime": {
     "end_time": "2021-01-26T12:27:17.020912Z",
     "start_time": "2021-01-26T12:27:16.224655Z"
    }
   },
   "outputs": [],
   "source": [
    "stops = list(set(stopwords.words('english')))\n",
    "tfidf_name_descr = TfidfVectorizer(stop_words=stops, ngram_range=(1,3))"
   ]
  },
  {
   "cell_type": "code",
   "execution_count": 48,
   "metadata": {
    "ExecuteTime": {
     "end_time": "2021-01-26T12:27:29.975346Z",
     "start_time": "2021-01-26T12:27:17.023041Z"
    }
   },
   "outputs": [],
   "source": [
    "tfidf_name_descr_matrix = tfidf_name_descr.fit_transform(games['name_n_descr'])"
   ]
  },
  {
   "cell_type": "code",
   "execution_count": 49,
   "metadata": {
    "ExecuteTime": {
     "end_time": "2021-01-26T12:27:50.052472Z",
     "start_time": "2021-01-26T12:27:29.976984Z"
    }
   },
   "outputs": [],
   "source": [
    "name_descr_sim = cosine_similarity(tfidf_name_descr_matrix)"
   ]
  },
  {
   "cell_type": "code",
   "execution_count": 50,
   "metadata": {
    "ExecuteTime": {
     "end_time": "2021-01-26T12:27:50.089676Z",
     "start_time": "2021-01-26T12:27:50.060931Z"
    }
   },
   "outputs": [],
   "source": [
    "name_descr_sim = pd.DataFrame(name_descr_sim, columns=games['name'].values, index=games['name'].values)"
   ]
  },
  {
   "cell_type": "code",
   "execution_count": 51,
   "metadata": {
    "ExecuteTime": {
     "end_time": "2021-01-26T12:27:53.642495Z",
     "start_time": "2021-01-26T12:27:50.091008Z"
    }
   },
   "outputs": [
    {
     "data": {
      "text/plain": [
       "Gulman 5                            1.000000\n",
       "Gulman 4: Still alive               0.070887\n",
       "Terrorist Elimination               0.054947\n",
       "Shadow Ops: Red Mercury             0.052188\n",
       "Strike Force Remastered             0.050525\n",
       "Hydrophobia: Prophecy               0.043320\n",
       "Hostage: Rescue Mission             0.043178\n",
       "Strike Force: Desert Thunder        0.042653\n",
       "Strike Force: Arctic Storm          0.040970\n",
       "Counter-Strike: Global Offensive    0.039728\n",
       "Name: Gulman 5, dtype: float64"
      ]
     },
     "execution_count": 51,
     "metadata": {},
     "output_type": "execute_result"
    }
   ],
   "source": [
    "name_descr_sim['Gulman 5'].sort_values(ascending=False).head(10)"
   ]
  },
  {
   "cell_type": "markdown",
   "metadata": {},
   "source": [
    ">**Analysis:**\n",
    ">- Gulman 4 which is in the same series as Gulman 5 is at the top of list. If player input his preferred game as Gulman 5, he will probably enjoy Gulman 4 as well. \n",
    ">- The rest of the recommendations are having the same genre as the input game. They are all action/shooting games. \n",
    ">- Cosine similarity of game name and description is the easier and fastest way to recommend player games, however, it is not personalized enough, as players will have the same suggestion if they input the same game name. "
   ]
  },
  {
   "cell_type": "markdown",
   "metadata": {},
   "source": [
    "## Content Based"
   ]
  },
  {
   "cell_type": "markdown",
   "metadata": {},
   "source": [
    "### Cosine Similarity\n",
    "**Applying cosine similarity on game attributes.** Applying cosine similarity on game attributes will enable us to find similar games base on game features such as genre, category, developer etc."
   ]
  },
  {
   "cell_type": "code",
   "execution_count": 52,
   "metadata": {
    "ExecuteTime": {
     "end_time": "2021-01-26T12:27:53.767019Z",
     "start_time": "2021-01-26T12:27:53.643833Z"
    }
   },
   "outputs": [],
   "source": [
    "features = list(games.select_dtypes(exclude='object').columns)"
   ]
  },
  {
   "cell_type": "code",
   "execution_count": 53,
   "metadata": {
    "ExecuteTime": {
     "end_time": "2021-01-26T12:27:53.776231Z",
     "start_time": "2021-01-26T12:27:53.768200Z"
    }
   },
   "outputs": [],
   "source": [
    "to_remove = ['rank', 'month', 'presence', 'pos_ratings', 'avg_playtime', 'median_playtime','language_count', \n",
    "             'lang_french', 'lang_german', 'lang_russian', 'lang_english', 'lang_italian', 'lang_japanese']\n",
    "features = [i for i in features if i not in to_remove]\n",
    "features.append('name')"
   ]
  },
  {
   "cell_type": "code",
   "execution_count": 54,
   "metadata": {
    "ExecuteTime": {
     "end_time": "2021-01-26T12:27:53.793353Z",
     "start_time": "2021-01-26T12:27:53.777322Z"
    }
   },
   "outputs": [],
   "source": [
    "games_new = games[features]"
   ]
  },
  {
   "cell_type": "code",
   "execution_count": 55,
   "metadata": {
    "ExecuteTime": {
     "end_time": "2021-01-26T12:27:53.798458Z",
     "start_time": "2021-01-26T12:27:53.794431Z"
    }
   },
   "outputs": [],
   "source": [
    "games_new.set_index('name', inplace=True)"
   ]
  },
  {
   "cell_type": "code",
   "execution_count": 56,
   "metadata": {
    "ExecuteTime": {
     "end_time": "2021-01-26T12:27:53.802402Z",
     "start_time": "2021-01-26T12:27:53.799445Z"
    }
   },
   "outputs": [],
   "source": [
    "def de_mean_normalize (df):\n",
    "    return round((df.T - df.mean(axis=1)),2).T"
   ]
  },
  {
   "cell_type": "code",
   "execution_count": 57,
   "metadata": {
    "ExecuteTime": {
     "end_time": "2021-01-26T12:27:56.387623Z",
     "start_time": "2021-01-26T12:27:53.803328Z"
    }
   },
   "outputs": [],
   "source": [
    "games_new = de_mean_normalize(games_new)"
   ]
  },
  {
   "cell_type": "code",
   "execution_count": 58,
   "metadata": {
    "ExecuteTime": {
     "end_time": "2021-01-26T12:27:58.847232Z",
     "start_time": "2021-01-26T12:27:56.388566Z"
    }
   },
   "outputs": [],
   "source": [
    "games_similarity_cs = pd.DataFrame(cosine_similarity(games_new), columns=games_new.index, index=games_new.index)"
   ]
  },
  {
   "cell_type": "code",
   "execution_count": 59,
   "metadata": {
    "ExecuteTime": {
     "end_time": "2021-01-26T12:27:59.064765Z",
     "start_time": "2021-01-26T12:27:58.856233Z"
    }
   },
   "outputs": [
    {
     "data": {
      "text/plain": [
       "name\n",
       "Dota 2                                         1.000000\n",
       "Counter-Strike: Global Offensive               1.000000\n",
       "Team Fortress 2                                1.000000\n",
       "Warframe                                       1.000000\n",
       "Unturned                                       1.000000\n",
       "                                                 ...   \n",
       "aMAZE St.Patrick                               0.994923\n",
       "Chocolate makes you happy: Valentine's Day     0.994923\n",
       "Invasion Zero                                  0.994923\n",
       "Chocolate makes you happy: St.Patrick's Day    0.994923\n",
       "Author Clicker                                 0.994923\n",
       "Name: Dota 2, Length: 18367, dtype: float64"
      ]
     },
     "execution_count": 59,
     "metadata": {},
     "output_type": "execute_result"
    }
   ],
   "source": [
    "games_similarity_cs['Dota 2'].sort_values(ascending=False)"
   ]
  },
  {
   "cell_type": "code",
   "execution_count": 60,
   "metadata": {
    "ExecuteTime": {
     "end_time": "2021-01-26T12:27:59.198782Z",
     "start_time": "2021-01-26T12:27:59.066588Z"
    }
   },
   "outputs": [
    {
     "data": {
      "text/html": [
       "<div>\n",
       "<style scoped>\n",
       "    .dataframe tbody tr th:only-of-type {\n",
       "        vertical-align: middle;\n",
       "    }\n",
       "\n",
       "    .dataframe tbody tr th {\n",
       "        vertical-align: top;\n",
       "    }\n",
       "\n",
       "    .dataframe thead th {\n",
       "        text-align: right;\n",
       "    }\n",
       "</style>\n",
       "<table border=\"1\" class=\"dataframe\">\n",
       "  <thead>\n",
       "    <tr style=\"text-align: right;\">\n",
       "      <th></th>\n",
       "      <th>rank</th>\n",
       "      <th>name</th>\n",
       "      <th>presence</th>\n",
       "      <th>price</th>\n",
       "      <th>controller</th>\n",
       "      <th>languages</th>\n",
       "      <th>description</th>\n",
       "      <th>tags</th>\n",
       "      <th>platforms</th>\n",
       "      <th>categories</th>\n",
       "      <th>genres</th>\n",
       "      <th>pos_ratings</th>\n",
       "      <th>avg_playtime</th>\n",
       "      <th>median_playtime</th>\n",
       "      <th>owners</th>\n",
       "      <th>avg_score</th>\n",
       "      <th>name_clean</th>\n",
       "      <th>year</th>\n",
       "      <th>month</th>\n",
       "      <th>descr_clean</th>\n",
       "      <th>...</th>\n",
       "      <th>gr_racing</th>\n",
       "      <th>gr_rpg</th>\n",
       "      <th>gr_mmp</th>\n",
       "      <th>categ_clean</th>\n",
       "      <th>cat_ach_cloud</th>\n",
       "      <th>cat_ctl_sp</th>\n",
       "      <th>cat_ctl_ach</th>\n",
       "      <th>cat_pctl_sp</th>\n",
       "      <th>cat_sp_leader</th>\n",
       "      <th>cat_ach_leader</th>\n",
       "      <th>cat_sp_mp</th>\n",
       "      <th>cat_ctl_cloud</th>\n",
       "      <th>cat_pctl_ach</th>\n",
       "      <th>cat_mp_ach</th>\n",
       "      <th>cat_mp_coop</th>\n",
       "      <th>cat_singleplayer</th>\n",
       "      <th>cat_multiplayer</th>\n",
       "      <th>cat_steamtradingcards</th>\n",
       "      <th>cat_steamleaderboards</th>\n",
       "      <th>name_n_descr</th>\n",
       "    </tr>\n",
       "  </thead>\n",
       "  <tbody>\n",
       "    <tr>\n",
       "      <th>0</th>\n",
       "      <td>1</td>\n",
       "      <td>Counter-Strike: Global Offensive</td>\n",
       "      <td>1009588</td>\n",
       "      <td>0.0</td>\n",
       "      <td>1.0</td>\n",
       "      <td>English, Czech, Danish, Dutch, Finnish, French, German, Hungarian, Italian, Japanese, Korean, N...</td>\n",
       "      <td>Counter-Strike is a multiplayer phenomenon in its simplicity. No complicated narratives to expl...</td>\n",
       "      <td>FPS, Shooter, Multiplayer, Competitive, Action, Team-Based, eSports, Tactical, First-Person, Pv...</td>\n",
       "      <td>['xbox', 'playstation', 'pc']</td>\n",
       "      <td>Multi-player;Steam Achievements;Full controller support;Steam Trading Cards;Steam Workshop;In-A...</td>\n",
       "      <td>action,freetoplay</td>\n",
       "      <td>2644405</td>\n",
       "      <td>22494</td>\n",
       "      <td>6502</td>\n",
       "      <td>150000000.0</td>\n",
       "      <td>5</td>\n",
       "      <td>Counter Strike Global Offensive</td>\n",
       "      <td>2012</td>\n",
       "      <td>8</td>\n",
       "      <td>counter strike multiplayer phenomenon simplicity complicated narrative explain source conflict ...</td>\n",
       "      <td>...</td>\n",
       "      <td>0</td>\n",
       "      <td>0</td>\n",
       "      <td>0</td>\n",
       "      <td>['multiplayer', 'steamachievements', 'fullcontrollersupport', 'steamtradingcards', 'steamworksh...</td>\n",
       "      <td>0</td>\n",
       "      <td>0</td>\n",
       "      <td>1</td>\n",
       "      <td>0</td>\n",
       "      <td>0</td>\n",
       "      <td>0</td>\n",
       "      <td>0</td>\n",
       "      <td>0</td>\n",
       "      <td>0</td>\n",
       "      <td>1</td>\n",
       "      <td>0</td>\n",
       "      <td>0</td>\n",
       "      <td>1</td>\n",
       "      <td>1</td>\n",
       "      <td>0</td>\n",
       "      <td>Counter Strike Global Offensivecounter strike multiplayer phenomenon simplicity complicated nar...</td>\n",
       "    </tr>\n",
       "    <tr>\n",
       "      <th>1</th>\n",
       "      <td>3</td>\n",
       "      <td>Dota 2</td>\n",
       "      <td>1009306</td>\n",
       "      <td>0.0</td>\n",
       "      <td>1.0</td>\n",
       "      <td>English, Bulgarian, Czech, Danish, Dutch, Finnish, French, German, Greek, Hungarian, Italian, J...</td>\n",
       "      <td>What used to be an unofficial modded map for the Warcraft 3, ended up being the most budgeted c...</td>\n",
       "      <td>Free to Play, MOBA, Multiplayer, Strategy, eSports, Team-Based, Competitive, Action, Online Co-...</td>\n",
       "      <td>['pc']</td>\n",
       "      <td>Multi-player;Co-op;Steam Trading Cards;Steam Workshop;SteamVR Collectibles;In-App Purchases;Val...</td>\n",
       "      <td>action,freetoplay,strategy</td>\n",
       "      <td>863508</td>\n",
       "      <td>23944</td>\n",
       "      <td>801</td>\n",
       "      <td>300000000.0</td>\n",
       "      <td>5</td>\n",
       "      <td>Dota 2</td>\n",
       "      <td>2013</td>\n",
       "      <td>9</td>\n",
       "      <td>used unofficial modded map warcraft ended budgeted cybersport discipline gathering people watch...</td>\n",
       "      <td>...</td>\n",
       "      <td>0</td>\n",
       "      <td>0</td>\n",
       "      <td>0</td>\n",
       "      <td>['multiplayer', 'coop', 'steamtradingcards', 'steamworkshop', 'steamvrcollectibles', 'inapppurc...</td>\n",
       "      <td>0</td>\n",
       "      <td>0</td>\n",
       "      <td>0</td>\n",
       "      <td>0</td>\n",
       "      <td>0</td>\n",
       "      <td>0</td>\n",
       "      <td>0</td>\n",
       "      <td>0</td>\n",
       "      <td>0</td>\n",
       "      <td>0</td>\n",
       "      <td>1</td>\n",
       "      <td>0</td>\n",
       "      <td>1</td>\n",
       "      <td>1</td>\n",
       "      <td>0</td>\n",
       "      <td>Dota 2used unofficial modded map warcraft ended budgeted cybersport discipline gathering people...</td>\n",
       "    </tr>\n",
       "  </tbody>\n",
       "</table>\n",
       "<p>2 rows × 69 columns</p>\n",
       "</div>"
      ],
      "text/plain": [
       "   rank                              name  presence  price  controller  \\\n",
       "0     1  Counter-Strike: Global Offensive   1009588    0.0         1.0   \n",
       "1     3                            Dota 2   1009306    0.0         1.0   \n",
       "\n",
       "                                                                                            languages  \\\n",
       "0  English, Czech, Danish, Dutch, Finnish, French, German, Hungarian, Italian, Japanese, Korean, N...   \n",
       "1  English, Bulgarian, Czech, Danish, Dutch, Finnish, French, German, Greek, Hungarian, Italian, J...   \n",
       "\n",
       "                                                                                          description  \\\n",
       "0  Counter-Strike is a multiplayer phenomenon in its simplicity. No complicated narratives to expl...   \n",
       "1  What used to be an unofficial modded map for the Warcraft 3, ended up being the most budgeted c...   \n",
       "\n",
       "                                                                                                 tags  \\\n",
       "0  FPS, Shooter, Multiplayer, Competitive, Action, Team-Based, eSports, Tactical, First-Person, Pv...   \n",
       "1  Free to Play, MOBA, Multiplayer, Strategy, eSports, Team-Based, Competitive, Action, Online Co-...   \n",
       "\n",
       "                       platforms  \\\n",
       "0  ['xbox', 'playstation', 'pc']   \n",
       "1                         ['pc']   \n",
       "\n",
       "                                                                                           categories  \\\n",
       "0  Multi-player;Steam Achievements;Full controller support;Steam Trading Cards;Steam Workshop;In-A...   \n",
       "1  Multi-player;Co-op;Steam Trading Cards;Steam Workshop;SteamVR Collectibles;In-App Purchases;Val...   \n",
       "\n",
       "                       genres  pos_ratings  avg_playtime  median_playtime  \\\n",
       "0           action,freetoplay      2644405         22494             6502   \n",
       "1  action,freetoplay,strategy       863508         23944              801   \n",
       "\n",
       "        owners  avg_score                       name_clean  year  month  \\\n",
       "0  150000000.0          5  Counter Strike Global Offensive  2012      8   \n",
       "1  300000000.0          5                           Dota 2  2013      9   \n",
       "\n",
       "                                                                                          descr_clean  \\\n",
       "0  counter strike multiplayer phenomenon simplicity complicated narrative explain source conflict ...   \n",
       "1  used unofficial modded map warcraft ended budgeted cybersport discipline gathering people watch...   \n",
       "\n",
       "   ...  gr_racing  gr_rpg  gr_mmp  \\\n",
       "0  ...          0       0       0   \n",
       "1  ...          0       0       0   \n",
       "\n",
       "                                                                                          categ_clean  \\\n",
       "0  ['multiplayer', 'steamachievements', 'fullcontrollersupport', 'steamtradingcards', 'steamworksh...   \n",
       "1  ['multiplayer', 'coop', 'steamtradingcards', 'steamworkshop', 'steamvrcollectibles', 'inapppurc...   \n",
       "\n",
       "   cat_ach_cloud  cat_ctl_sp  cat_ctl_ach  cat_pctl_sp  cat_sp_leader  \\\n",
       "0              0           0            1            0              0   \n",
       "1              0           0            0            0              0   \n",
       "\n",
       "  cat_ach_leader  cat_sp_mp  cat_ctl_cloud  cat_pctl_ach  cat_mp_ach  \\\n",
       "0              0          0              0             0           1   \n",
       "1              0          0              0             0           0   \n",
       "\n",
       "   cat_mp_coop  cat_singleplayer cat_multiplayer  cat_steamtradingcards  \\\n",
       "0            0                 0               1                      1   \n",
       "1            1                 0               1                      1   \n",
       "\n",
       "   cat_steamleaderboards  \\\n",
       "0                      0   \n",
       "1                      0   \n",
       "\n",
       "                                                                                         name_n_descr  \n",
       "0  Counter Strike Global Offensivecounter strike multiplayer phenomenon simplicity complicated nar...  \n",
       "1  Dota 2used unofficial modded map warcraft ended budgeted cybersport discipline gathering people...  \n",
       "\n",
       "[2 rows x 69 columns]"
      ]
     },
     "execution_count": 60,
     "metadata": {},
     "output_type": "execute_result"
    }
   ],
   "source": [
    "games[(games['name']=='Dota 2')|(games['name']=='Counter-Strike: Global Offensive')]"
   ]
  },
  {
   "cell_type": "markdown",
   "metadata": {},
   "source": [
    ">**Analysis:**\n",
    ">- Majority of games are very much similar to each other after applying cosine similarity. \n",
    ">- If we take a look at 'Dota 2' and 'Counter Strike', from game attributes perspective they are quite similar. They are both free to play, require controller, have similar social media presence etc. \n",
    ">- We shall compare euclidean distance for these games as well. "
   ]
  },
  {
   "cell_type": "markdown",
   "metadata": {},
   "source": [
    "### Euclidean Distance"
   ]
  },
  {
   "cell_type": "markdown",
   "metadata": {},
   "source": [
    "**Calculating euclidean distance between games.** Euclidean distance takes into consideration of magnitude of features which is important in our analysis as well. "
   ]
  },
  {
   "cell_type": "code",
   "execution_count": 61,
   "metadata": {
    "ExecuteTime": {
     "end_time": "2021-01-26T12:28:03.961088Z",
     "start_time": "2021-01-26T12:27:59.199873Z"
    }
   },
   "outputs": [],
   "source": [
    "games_similarity_ed = pd.DataFrame(euclidean_distances(games_new), columns=games_new.index, index=games_new.index)"
   ]
  },
  {
   "cell_type": "code",
   "execution_count": 62,
   "metadata": {
    "ExecuteTime": {
     "end_time": "2021-01-26T12:28:12.372839Z",
     "start_time": "2021-01-26T12:28:03.963842Z"
    }
   },
   "outputs": [],
   "source": [
    "# force the values to be between 0 and 1\n",
    "games_similarity_ed = games_similarity_ed/300_000_000"
   ]
  },
  {
   "cell_type": "code",
   "execution_count": 63,
   "metadata": {
    "ExecuteTime": {
     "end_time": "2021-01-26T12:28:14.961522Z",
     "start_time": "2021-01-26T12:28:12.417693Z"
    },
    "scrolled": true
   },
   "outputs": [
    {
     "data": {
      "text/plain": [
       "name\n",
       "Dota 2                              0.000000\n",
       "Counter-Strike: Global Offensive    0.494152\n",
       "Team Fortress 2                     0.757699\n",
       "Unturned                            0.757699\n",
       "Warframe                            0.757699\n",
       "Half-Life 2: Lost Coast             0.889473\n",
       "Heroes & Generals                   0.889473\n",
       "Half-Life 2: Deathmatch             0.889473\n",
       "Warface                             0.889473\n",
       "Counter-Strike: Condition Zero      0.889473\n",
       "Name: Dota 2, dtype: float64"
      ]
     },
     "execution_count": 63,
     "metadata": {},
     "output_type": "execute_result"
    }
   ],
   "source": [
    "games_similarity_ed['Dota 2'].sort_values(ascending=True).head(10)"
   ]
  },
  {
   "cell_type": "markdown",
   "metadata": {},
   "source": [
    ">**Analysis:**\n",
    ">- Different from cosine similarity, the lower the euclidean distance value, the more similar the two games are. \n",
    ">- After checking against euclidean distance, Counter Strike is still the most similar game to Dota 2. However, in euclidean distance analysis, Counter Strike is not identical to Dota 2 as shown in cosine similarity analysis. If we take a look at average play time and number of positive ratings, they are quite different for these two games. Hence the euclidean distance between them. "
   ]
  },
  {
   "cell_type": "markdown",
   "metadata": {},
   "source": [
    "## Collaborative Filtering"
   ]
  },
  {
   "cell_type": "markdown",
   "metadata": {},
   "source": [
    "### Model Based\n",
    "There are many ways to achieve collaborative filtering. <br>\n",
    "One of the ways is matrix factorization and dimension reduction via **`Singular Value Decomposition`**. Through dimension reduction, our model is able to summarize unique game profiles for us."
   ]
  },
  {
   "cell_type": "code",
   "execution_count": 64,
   "metadata": {
    "ExecuteTime": {
     "end_time": "2021-01-26T12:28:15.026501Z",
     "start_time": "2021-01-26T12:28:14.968511Z"
    }
   },
   "outputs": [
    {
     "data": {
      "text/html": [
       "<div>\n",
       "<style scoped>\n",
       "    .dataframe tbody tr th:only-of-type {\n",
       "        vertical-align: middle;\n",
       "    }\n",
       "\n",
       "    .dataframe tbody tr th {\n",
       "        vertical-align: top;\n",
       "    }\n",
       "\n",
       "    .dataframe thead th {\n",
       "        text-align: right;\n",
       "    }\n",
       "</style>\n",
       "<table border=\"1\" class=\"dataframe\">\n",
       "  <thead>\n",
       "    <tr style=\"text-align: right;\">\n",
       "      <th></th>\n",
       "      <th>userid</th>\n",
       "      <th>name</th>\n",
       "      <th>user_score</th>\n",
       "    </tr>\n",
       "  </thead>\n",
       "  <tbody>\n",
       "    <tr>\n",
       "      <th>0</th>\n",
       "      <td>151603712</td>\n",
       "      <td>The Elder Scrolls V Skyrim</td>\n",
       "      <td>3.388639</td>\n",
       "    </tr>\n",
       "    <tr>\n",
       "      <th>1</th>\n",
       "      <td>151603712</td>\n",
       "      <td>Fallout 4</td>\n",
       "      <td>2.898890</td>\n",
       "    </tr>\n",
       "    <tr>\n",
       "      <th>2</th>\n",
       "      <td>151603712</td>\n",
       "      <td>Spore</td>\n",
       "      <td>2.143195</td>\n",
       "    </tr>\n",
       "  </tbody>\n",
       "</table>\n",
       "</div>"
      ],
      "text/plain": [
       "      userid                        name  user_score\n",
       "0  151603712  The Elder Scrolls V Skyrim    3.388639\n",
       "1  151603712                   Fallout 4    2.898890\n",
       "2  151603712                       Spore    2.143195"
      ]
     },
     "execution_count": 64,
     "metadata": {},
     "output_type": "execute_result"
    }
   ],
   "source": [
    "users[['userid', 'name', 'user_score']].head(3)"
   ]
  },
  {
   "cell_type": "code",
   "execution_count": 65,
   "metadata": {
    "ExecuteTime": {
     "end_time": "2021-01-26T12:28:15.876439Z",
     "start_time": "2021-01-26T12:28:15.030430Z"
    }
   },
   "outputs": [],
   "source": [
    "reader = Reader()\n",
    "user_rating = Dataset.load_from_df(users[['userid', 'name', 'user_score']],reader)"
   ]
  },
  {
   "cell_type": "code",
   "execution_count": 66,
   "metadata": {
    "ExecuteTime": {
     "end_time": "2021-01-26T12:28:15.993369Z",
     "start_time": "2021-01-26T12:28:15.877741Z"
    }
   },
   "outputs": [],
   "source": [
    "trainset, testset = train_test_split(user_rating, test_size=0.2)"
   ]
  },
  {
   "cell_type": "markdown",
   "metadata": {},
   "source": [
    "- **Grid search to get the best parameters.** As we are using MAE as our main evaluation matrix, we will be optimizing MAE via grid search. "
   ]
  },
  {
   "cell_type": "code",
   "execution_count": 67,
   "metadata": {
    "ExecuteTime": {
     "end_time": "2021-01-26T12:30:06.330381Z",
     "start_time": "2021-01-26T12:28:15.994864Z"
    }
   },
   "outputs": [],
   "source": [
    "param_grid = {'n_factors':[8, 10, 12], \n",
    "              'lr_all': [0.002, 0.005, 0.0007], \n",
    "              'reg_all': [0.02, 0.05, 0.1]}\n",
    "svd_model = GridSearchCV(SVD, param_grid=param_grid, cv=5)\n",
    "svd_model.fit(user_rating)"
   ]
  },
  {
   "cell_type": "code",
   "execution_count": 68,
   "metadata": {
    "ExecuteTime": {
     "end_time": "2021-01-26T12:30:06.335075Z",
     "start_time": "2021-01-26T12:30:06.331248Z"
    }
   },
   "outputs": [
    {
     "name": "stdout",
     "output_type": "stream",
     "text": [
      "{'rmse': 0.762837920350982, 'mae': 0.6040717314439344}\n"
     ]
    }
   ],
   "source": [
    "print(svd_model.best_score)"
   ]
  },
  {
   "cell_type": "code",
   "execution_count": 69,
   "metadata": {
    "ExecuteTime": {
     "end_time": "2021-01-26T12:30:06.338504Z",
     "start_time": "2021-01-26T12:30:06.335977Z"
    }
   },
   "outputs": [
    {
     "name": "stdout",
     "output_type": "stream",
     "text": [
      "{'rmse': {'n_factors': 8, 'lr_all': 0.005, 'reg_all': 0.05}, 'mae': {'n_factors': 10, 'lr_all': 0.005, 'reg_all': 0.02}}\n"
     ]
    }
   ],
   "source": [
    "print(svd_model.best_params)"
   ]
  },
  {
   "cell_type": "markdown",
   "metadata": {},
   "source": [
    "- **Let's build a model with best parameters**"
   ]
  },
  {
   "cell_type": "code",
   "execution_count": 70,
   "metadata": {
    "ExecuteTime": {
     "end_time": "2021-01-26T12:30:06.342232Z",
     "start_time": "2021-01-26T12:30:06.339500Z"
    }
   },
   "outputs": [],
   "source": [
    "best_model = SVD(n_factors= 8, reg_all=0.02)"
   ]
  },
  {
   "cell_type": "code",
   "execution_count": 71,
   "metadata": {
    "ExecuteTime": {
     "end_time": "2021-01-26T12:30:07.282507Z",
     "start_time": "2021-01-26T12:30:06.344239Z"
    }
   },
   "outputs": [
    {
     "data": {
      "text/plain": [
       "<surprise.prediction_algorithms.matrix_factorization.SVD at 0x7fb33a862150>"
      ]
     },
     "execution_count": 71,
     "metadata": {},
     "output_type": "execute_result"
    }
   ],
   "source": [
    "trainset = user_rating.build_full_trainset()\n",
    "testset = trainset.build_testset()\n",
    "best_model.fit(trainset)"
   ]
  },
  {
   "cell_type": "code",
   "execution_count": 72,
   "metadata": {
    "ExecuteTime": {
     "end_time": "2021-01-26T12:30:07.708924Z",
     "start_time": "2021-01-26T12:30:07.283489Z"
    }
   },
   "outputs": [],
   "source": [
    "predictions = best_model.test(testset)"
   ]
  },
  {
   "cell_type": "code",
   "execution_count": 73,
   "metadata": {
    "ExecuteTime": {
     "end_time": "2021-01-26T12:30:07.742588Z",
     "start_time": "2021-01-26T12:30:07.709848Z"
    }
   },
   "outputs": [
    {
     "name": "stdout",
     "output_type": "stream",
     "text": [
      "MAE:  0.5488\n"
     ]
    }
   ],
   "source": [
    "cf_error = accuracy.mae(predictions)"
   ]
  },
  {
   "cell_type": "code",
   "execution_count": 74,
   "metadata": {
    "ExecuteTime": {
     "end_time": "2021-01-26T12:30:07.745899Z",
     "start_time": "2021-01-26T12:30:07.743638Z"
    }
   },
   "outputs": [
    {
     "data": {
      "text/plain": [
       "0.5487560464911426"
      ]
     },
     "execution_count": 74,
     "metadata": {},
     "output_type": "execute_result"
    }
   ],
   "source": [
    "cf_error"
   ]
  },
  {
   "cell_type": "markdown",
   "metadata": {},
   "source": [
    ">**Analysis:**\n",
    ">- We have just predicted user rating for all the games in our dataset, and our mean absolute error is 0.54. This means that on average, our predictions are about half a score away from user's actual score. Since our score ranges from 0 to 5, 0.5 error is considered as good. "
   ]
  },
  {
   "cell_type": "markdown",
   "metadata": {},
   "source": [
    "**Let's define a function to make recommendations to users.**"
   ]
  },
  {
   "cell_type": "code",
   "execution_count": 75,
   "metadata": {
    "ExecuteTime": {
     "end_time": "2021-01-26T12:30:07.752356Z",
     "start_time": "2021-01-26T12:30:07.746860Z"
    }
   },
   "outputs": [],
   "source": [
    "def get_top_n(predictions, userid, n=5):\n",
    "    top_n = defaultdict(list)\n",
    "    top_n_filtered = []\n",
    "    for uid, iid, true_r, est, _ in predictions:\n",
    "        top_n[uid].append((iid, est))\n",
    "\n",
    "    # Then sort the predictions for each user and retrieve the k highest ones.\n",
    "    for uid, user_ratings in top_n.items():\n",
    "        user_ratings.sort(key=lambda x: x[1], reverse=True)\n",
    "        top_n[uid] = user_ratings[:n]\n",
    "    for game in top_n[userid]:\n",
    "        top_n_filtered.append(game[0])\n",
    "    for num, game in enumerate(top_n_filtered):\n",
    "        print(f'Recommendatin {num+1}: {game}')"
   ]
  },
  {
   "cell_type": "code",
   "execution_count": 76,
   "metadata": {
    "ExecuteTime": {
     "end_time": "2021-01-26T12:30:07.795916Z",
     "start_time": "2021-01-26T12:30:07.753416Z"
    }
   },
   "outputs": [
    {
     "name": "stdout",
     "output_type": "stream",
     "text": [
      "Recommendatin 1: Total War ROME II - Emperor Edition\n",
      "Recommendatin 2: Mount & Blade Warband\n",
      "Recommendatin 3: Empire Total War\n",
      "Recommendatin 4: Napoleon Total War\n",
      "Recommendatin 5: Left 4 Dead 2\n"
     ]
    }
   ],
   "source": [
    "get_top_n(predictions, 43284145)"
   ]
  },
  {
   "cell_type": "code",
   "execution_count": 77,
   "metadata": {
    "ExecuteTime": {
     "end_time": "2021-01-26T12:30:07.805887Z",
     "start_time": "2021-01-26T12:30:07.797080Z"
    }
   },
   "outputs": [
    {
     "data": {
      "text/html": [
       "<div>\n",
       "<style scoped>\n",
       "    .dataframe tbody tr th:only-of-type {\n",
       "        vertical-align: middle;\n",
       "    }\n",
       "\n",
       "    .dataframe tbody tr th {\n",
       "        vertical-align: top;\n",
       "    }\n",
       "\n",
       "    .dataframe thead th {\n",
       "        text-align: right;\n",
       "    }\n",
       "</style>\n",
       "<table border=\"1\" class=\"dataframe\">\n",
       "  <thead>\n",
       "    <tr style=\"text-align: right;\">\n",
       "      <th></th>\n",
       "      <th>userid</th>\n",
       "      <th>name</th>\n",
       "      <th>user_score</th>\n",
       "    </tr>\n",
       "  </thead>\n",
       "  <tbody>\n",
       "    <tr>\n",
       "      <th>47879</th>\n",
       "      <td>43284145</td>\n",
       "      <td>Napoleon Total War</td>\n",
       "      <td>3.050656</td>\n",
       "    </tr>\n",
       "    <tr>\n",
       "      <th>47880</th>\n",
       "      <td>43284145</td>\n",
       "      <td>Total War ROME II - Emperor Edition</td>\n",
       "      <td>2.428392</td>\n",
       "    </tr>\n",
       "    <tr>\n",
       "      <th>47881</th>\n",
       "      <td>43284145</td>\n",
       "      <td>Mount &amp; Blade Warband</td>\n",
       "      <td>2.413364</td>\n",
       "    </tr>\n",
       "    <tr>\n",
       "      <th>47882</th>\n",
       "      <td>43284145</td>\n",
       "      <td>Rising Storm/Red Orchestra 2 Multiplayer</td>\n",
       "      <td>2.397789</td>\n",
       "    </tr>\n",
       "    <tr>\n",
       "      <th>47883</th>\n",
       "      <td>43284145</td>\n",
       "      <td>Tomb Raider</td>\n",
       "      <td>2.364829</td>\n",
       "    </tr>\n",
       "  </tbody>\n",
       "</table>\n",
       "</div>"
      ],
      "text/plain": [
       "         userid                                      name  user_score\n",
       "47879  43284145                        Napoleon Total War    3.050656\n",
       "47880  43284145       Total War ROME II - Emperor Edition    2.428392\n",
       "47881  43284145                     Mount & Blade Warband    2.413364\n",
       "47882  43284145  Rising Storm/Red Orchestra 2 Multiplayer    2.397789\n",
       "47883  43284145                               Tomb Raider    2.364829"
      ]
     },
     "execution_count": 77,
     "metadata": {},
     "output_type": "execute_result"
    }
   ],
   "source": [
    "users[users['userid']==43284145][['userid','name','user_score']][:5]"
   ]
  },
  {
   "cell_type": "code",
   "execution_count": 78,
   "metadata": {
    "ExecuteTime": {
     "end_time": "2021-01-26T12:30:07.849855Z",
     "start_time": "2021-01-26T12:30:07.806828Z"
    }
   },
   "outputs": [
    {
     "name": "stdout",
     "output_type": "stream",
     "text": [
      "Recommendatin 1: Counter-Strike Global Offensive\n",
      "Recommendatin 2: Grand Theft Auto V\n",
      "Recommendatin 3: Arma 3\n",
      "Recommendatin 4: DARK SOULS II\n",
      "Recommendatin 5: Fallout 4\n"
     ]
    }
   ],
   "source": [
    "get_top_n(predictions, 33282871)"
   ]
  },
  {
   "cell_type": "code",
   "execution_count": 79,
   "metadata": {
    "ExecuteTime": {
     "end_time": "2021-01-26T12:30:07.858902Z",
     "start_time": "2021-01-26T12:30:07.851053Z"
    }
   },
   "outputs": [
    {
     "data": {
      "text/html": [
       "<div>\n",
       "<style scoped>\n",
       "    .dataframe tbody tr th:only-of-type {\n",
       "        vertical-align: middle;\n",
       "    }\n",
       "\n",
       "    .dataframe tbody tr th {\n",
       "        vertical-align: top;\n",
       "    }\n",
       "\n",
       "    .dataframe thead th {\n",
       "        text-align: right;\n",
       "    }\n",
       "</style>\n",
       "<table border=\"1\" class=\"dataframe\">\n",
       "  <thead>\n",
       "    <tr style=\"text-align: right;\">\n",
       "      <th></th>\n",
       "      <th>userid</th>\n",
       "      <th>name</th>\n",
       "      <th>user_score</th>\n",
       "    </tr>\n",
       "  </thead>\n",
       "  <tbody>\n",
       "    <tr>\n",
       "      <th>18607</th>\n",
       "      <td>33282871</td>\n",
       "      <td>Counter-Strike Global Offensive</td>\n",
       "      <td>3.475007</td>\n",
       "    </tr>\n",
       "    <tr>\n",
       "      <th>18608</th>\n",
       "      <td>33282871</td>\n",
       "      <td>ARK Survival Evolved</td>\n",
       "      <td>3.471143</td>\n",
       "    </tr>\n",
       "    <tr>\n",
       "      <th>18609</th>\n",
       "      <td>33282871</td>\n",
       "      <td>Terraria</td>\n",
       "      <td>2.913409</td>\n",
       "    </tr>\n",
       "    <tr>\n",
       "      <th>18610</th>\n",
       "      <td>33282871</td>\n",
       "      <td>Team Fortress 2</td>\n",
       "      <td>2.888930</td>\n",
       "    </tr>\n",
       "    <tr>\n",
       "      <th>18611</th>\n",
       "      <td>33282871</td>\n",
       "      <td>XCOM Enemy Unknown</td>\n",
       "      <td>2.702498</td>\n",
       "    </tr>\n",
       "  </tbody>\n",
       "</table>\n",
       "</div>"
      ],
      "text/plain": [
       "         userid                             name  user_score\n",
       "18607  33282871  Counter-Strike Global Offensive    3.475007\n",
       "18608  33282871             ARK Survival Evolved    3.471143\n",
       "18609  33282871                         Terraria    2.913409\n",
       "18610  33282871                  Team Fortress 2    2.888930\n",
       "18611  33282871               XCOM Enemy Unknown    2.702498"
      ]
     },
     "execution_count": 79,
     "metadata": {},
     "output_type": "execute_result"
    }
   ],
   "source": [
    "users[users['userid']==33282871][['userid','name','user_score']][:5]"
   ]
  },
  {
   "cell_type": "markdown",
   "metadata": {},
   "source": [
    ">**Analysis:**\n",
    ">- If we look at the recommendation for user '43284145', he generally likes war games. We recommended 5 games to him and 2 out of 5 appeared on his top 5 game list\n",
    ">- For user '98848653', he generally likes shooting games. We recommended 5 games to him but unfortunately we did not manage to capture any of the top 5 games.\n",
    ">- To evaluate these two predictions, let's calculate the **`precision@k`** for these two users."
   ]
  },
  {
   "cell_type": "markdown",
   "metadata": {},
   "source": [
    "- **`Precision @K.`** Another important evaluation matrix we are looking at is precision@k. Precision@k looks at the following criteria:<br>\n",
    "    - 1. how many recommended games actually appeared on user's list of played games (**relevant games**)<br>\n",
    "    - 2. out of all the relevant games, how many games are qualified to be a good recommendation (score >2) (**qualified games**)<br>\n",
    "    - 3. finally, precision@k is calculated by taking the **ratio of qualified games to relevant games**. "
   ]
  },
  {
   "cell_type": "code",
   "execution_count": 80,
   "metadata": {
    "ExecuteTime": {
     "end_time": "2021-01-26T12:30:07.865639Z",
     "start_time": "2021-01-26T12:30:07.859942Z"
    }
   },
   "outputs": [],
   "source": [
    "def precision_at_k(predictions, k=5, threshold=2.0):\n",
    "    \"\"\"Return precisionfor each user\"\"\"\n",
    "\n",
    "    # First map the predictions to each user.\n",
    "    user_est_true = defaultdict(list)\n",
    "    for uid, _, true_r, est, _ in predictions:\n",
    "        user_est_true[uid].append((est, true_r))\n",
    "\n",
    "    precisions = dict()\n",
    "    for uid, user_ratings in user_est_true.items():\n",
    "\n",
    "        # Sort user ratings by estimated value\n",
    "        user_ratings.sort(key=lambda x: x[0], reverse=True)\n",
    "\n",
    "        # Number of relevant items\n",
    "        n_rel = sum((true_r >= threshold) for (_, true_r) in user_ratings)\n",
    "\n",
    "        # Number of recommended items in top k\n",
    "        n_rec_k = sum((est >= threshold) for (est, _) in user_ratings[:k])\n",
    "\n",
    "        # Number of relevant and recommended items in top k\n",
    "        n_rel_and_rec_k = sum(((true_r >= threshold) and (est >= threshold))\n",
    "                              for (est, true_r) in user_ratings[:k])\n",
    "\n",
    "        # Precision@K: Proportion of recommended items that are relevant\n",
    "        # When n_rec_k is 0, Precision is undefined. We here set it to 0.\n",
    "\n",
    "        precisions[uid] = n_rel_and_rec_k / n_rec_k if n_rec_k != 0 else 0\n",
    "    return precisions"
   ]
  },
  {
   "cell_type": "code",
   "execution_count": 81,
   "metadata": {
    "ExecuteTime": {
     "end_time": "2021-01-26T12:30:08.013293Z",
     "start_time": "2021-01-26T12:30:07.866734Z"
    }
   },
   "outputs": [],
   "source": [
    "precision_dictionary = precision_at_k(predictions)"
   ]
  },
  {
   "cell_type": "code",
   "execution_count": 82,
   "metadata": {
    "ExecuteTime": {
     "end_time": "2021-01-26T12:30:08.019490Z",
     "start_time": "2021-01-26T12:30:08.014324Z"
    }
   },
   "outputs": [
    {
     "data": {
      "text/plain": [
       "0.36968428781204205"
      ]
     },
     "execution_count": 82,
     "metadata": {},
     "output_type": "execute_result"
    }
   ],
   "source": [
    "cf_avg_precision = sum(precision_dictionary.values())/len(precision_dictionary.values())\n",
    "cf_avg_precision"
   ]
  },
  {
   "cell_type": "code",
   "execution_count": 83,
   "metadata": {
    "ExecuteTime": {
     "end_time": "2021-01-26T12:30:08.022833Z",
     "start_time": "2021-01-26T12:30:08.020587Z"
    }
   },
   "outputs": [
    {
     "data": {
      "text/plain": [
       "0.4"
      ]
     },
     "execution_count": 83,
     "metadata": {},
     "output_type": "execute_result"
    }
   ],
   "source": [
    "precision_dictionary[33282871]"
   ]
  },
  {
   "cell_type": "markdown",
   "metadata": {},
   "source": [
    "- Precision is okay for player 33282871. Although our recommended games are not his top 5 favorite games, he seems to like 3 out of the 5 games we recommended. "
   ]
  },
  {
   "cell_type": "code",
   "execution_count": 84,
   "metadata": {
    "ExecuteTime": {
     "end_time": "2021-01-26T12:30:08.027517Z",
     "start_time": "2021-01-26T12:30:08.024063Z"
    }
   },
   "outputs": [
    {
     "data": {
      "text/plain": [
       "1.0"
      ]
     },
     "execution_count": 84,
     "metadata": {},
     "output_type": "execute_result"
    }
   ],
   "source": [
    "precision_dictionary[43284145]"
   ]
  },
  {
   "cell_type": "markdown",
   "metadata": {},
   "source": [
    "- Precision is perfect for player 43284145 because we managed to recommend all 5 games which he likes."
   ]
  },
  {
   "cell_type": "markdown",
   "metadata": {},
   "source": [
    "### User Based\n",
    "Another way of achieving collaborative filtering is matrix factorization coupled with **`neural network`** and **`gradient descent`**. "
   ]
  },
  {
   "cell_type": "code",
   "execution_count": 85,
   "metadata": {
    "ExecuteTime": {
     "end_time": "2021-01-26T12:30:08.031129Z",
     "start_time": "2021-01-26T12:30:08.028511Z"
    }
   },
   "outputs": [
    {
     "data": {
      "text/plain": [
       "(70489, 6)"
      ]
     },
     "execution_count": 85,
     "metadata": {},
     "output_type": "execute_result"
    }
   ],
   "source": [
    "users.shape"
   ]
  },
  {
   "cell_type": "code",
   "execution_count": 86,
   "metadata": {
    "ExecuteTime": {
     "end_time": "2021-01-26T12:30:08.946080Z",
     "start_time": "2021-01-26T12:30:08.032197Z"
    }
   },
   "outputs": [],
   "source": [
    "users_new_pivot = users.pivot_table(index='userid', columns='name', values='user_score')"
   ]
  },
  {
   "cell_type": "code",
   "execution_count": 87,
   "metadata": {
    "ExecuteTime": {
     "end_time": "2021-01-26T12:30:09.433635Z",
     "start_time": "2021-01-26T12:30:08.947016Z"
    }
   },
   "outputs": [],
   "source": [
    "users_new_pivot = users_new_pivot.fillna(0)"
   ]
  },
  {
   "cell_type": "code",
   "execution_count": 88,
   "metadata": {
    "ExecuteTime": {
     "end_time": "2021-01-26T12:30:09.460670Z",
     "start_time": "2021-01-26T12:30:09.434644Z"
    }
   },
   "outputs": [],
   "source": [
    "# Shuffle DataFrame\n",
    "users_new = users.sample(frac=1).reset_index(drop=True)\n",
    "\n",
    "# Test size\n",
    "n = 7000\n",
    "users_new_train = users_new[:-n]\n",
    "users_new_test = users_new[-n:]"
   ]
  },
  {
   "cell_type": "code",
   "execution_count": 89,
   "metadata": {
    "ExecuteTime": {
     "end_time": "2021-01-26T12:30:09.500858Z",
     "start_time": "2021-01-26T12:30:09.461654Z"
    }
   },
   "outputs": [],
   "source": [
    "# Create user- & game-id mapping\n",
    "unique_user_ids = users_new['userid'].unique()\n",
    "unique_game_ids = users_new['name'].unique()\n",
    "user_id_mapping = {id:i for i, id in enumerate(unique_user_ids)}\n",
    "game_id_mapping = {id:i for i, id in enumerate(unique_game_ids)}\n",
    "\n",
    "# Create correctly mapped train- & testset\n",
    "train_user_data = users_new_train['userid'].map(user_id_mapping)\n",
    "train_game_data = users_new_train['name'].map(game_id_mapping)\n",
    "test_user_data = users_new_test['userid'].map(user_id_mapping)\n",
    "test_game_data = users_new_test['name'].map(game_id_mapping)\n",
    "\n",
    "# Get input variable-sizes\n",
    "num_user = len(user_id_mapping)\n",
    "num_games = len(game_id_mapping)"
   ]
  },
  {
   "cell_type": "code",
   "execution_count": 90,
   "metadata": {
    "ExecuteTime": {
     "end_time": "2021-01-26T12:30:27.890738Z",
     "start_time": "2021-01-26T12:30:09.504224Z"
    },
    "scrolled": true
   },
   "outputs": [
    {
     "name": "stdout",
     "output_type": "stream",
     "text": [
      "WARNING:tensorflow:Falling back from v2 loop because of error: Failed to find data adapter that can handle input: (<class 'list'> containing values of types {\"<class 'pandas.core.series.Series'>\"}), <class 'NoneType'>\n",
      "Train on 57140 samples, validate on 6349 samples\n",
      "Epoch 1/50\n",
      "57140/57140 [==============================] - 2s 30us/sample - loss: 1.6678 - val_loss: 1.6569\n",
      "Epoch 2/50\n",
      "57140/57140 [==============================] - 1s 21us/sample - loss: 1.5768 - val_loss: 1.3946\n",
      "Epoch 3/50\n",
      "57140/57140 [==============================] - 1s 21us/sample - loss: 1.0866 - val_loss: 0.9556\n",
      "Epoch 4/50\n",
      "57140/57140 [==============================] - 1s 20us/sample - loss: 0.7914 - val_loss: 0.8409\n",
      "Epoch 5/50\n",
      "57140/57140 [==============================] - 1s 20us/sample - loss: 0.6663 - val_loss: 0.7864\n",
      "Epoch 6/50\n",
      "57140/57140 [==============================] - 1s 20us/sample - loss: 0.5890 - val_loss: 0.7572\n",
      "Epoch 7/50\n",
      "57140/57140 [==============================] - 1s 21us/sample - loss: 0.5362 - val_loss: 0.7401\n",
      "Epoch 8/50\n",
      "57140/57140 [==============================] - 1s 20us/sample - loss: 0.4986 - val_loss: 0.7297\n",
      "Epoch 9/50\n",
      "57140/57140 [==============================] - 1s 20us/sample - loss: 0.4687 - val_loss: 0.7224\n",
      "Epoch 10/50\n",
      "57140/57140 [==============================] - 1s 21us/sample - loss: 0.4447 - val_loss: 0.7177\n",
      "Epoch 11/50\n",
      "57140/57140 [==============================] - 1s 21us/sample - loss: 0.4236 - val_loss: 0.7154\n",
      "Epoch 12/50\n",
      "57140/57140 [==============================] - 1s 20us/sample - loss: 0.4054 - val_loss: 0.7139\n",
      "Epoch 13/50\n",
      "57140/57140 [==============================] - 1s 20us/sample - loss: 0.3885 - val_loss: 0.7138\n",
      "Epoch 14/50\n",
      "57140/57140 [==============================] - 1s 20us/sample - loss: 0.3732 - val_loss: 0.7132\n",
      "Epoch 15/50\n",
      "57140/57140 [==============================] - 1s 20us/sample - loss: 0.3585 - val_loss: 0.7137\n",
      "Epoch 00015: early stopping\n",
      "WARNING:tensorflow:Falling back from v2 loop because of error: Failed to find data adapter that can handle input: (<class 'list'> containing values of types {\"<class 'pandas.core.series.Series'>\"}), <class 'NoneType'>\n",
      "\n",
      "\n",
      "Testing Result With Keras Matrix-Factorization: 0.7338 MAE\n"
     ]
    }
   ],
   "source": [
    "embedding_size = 32\n",
    "# Inputs\n",
    "user_id_input = Input(shape=[1], name='userid')\n",
    "game_id_input = Input(shape=[1], name='name')\n",
    "\n",
    "# Create embedding layers for users and movies\n",
    "user_embedding = Embedding(output_dim=embedding_size, input_dim=num_user, input_length=1, \n",
    "                           name='user_embedding')(user_id_input)\n",
    "game_embedding = Embedding(output_dim=embedding_size, input_dim=num_games,input_length=1, \n",
    "                            name='item_embedding')(game_id_input)\n",
    "\n",
    "# Reshape the embedding layers\n",
    "user_vector = Reshape([embedding_size])(user_embedding)\n",
    "game_vector = Reshape([embedding_size])(game_embedding)\n",
    "\n",
    "# Compute dot-product of reshaped embedding layers as prediction\n",
    "y = Dot(1, normalize=False)([user_vector, game_vector])\n",
    "\n",
    "# Setup model\n",
    "model = Model(inputs=[user_id_input, game_id_input], outputs=y)\n",
    "model.compile(loss='mae', optimizer='adam')\n",
    "es = EarlyStopping(monitor='val_loss', mode='min', verbose=1)\n",
    "\n",
    "# Fit model\n",
    "model.fit([train_user_data, train_game_data], users_new_train['user_score'].values,\n",
    "          batch_size=256, epochs=50, validation_split=0.1, callbacks=[es], shuffle=True)\n",
    "\n",
    "# Test model\n",
    "y_pred = model.predict([test_user_data, test_game_data])\n",
    "y_true = users_new_test['user_score'].values\n",
    "\n",
    "#  Compute RMSE\n",
    "mae = mean_absolute_error(y_pred=y_pred, y_true=y_true)\n",
    "print('\\n\\nTesting Result With Keras Matrix-Factorization: {:.4f} MAE'.format(mae))"
   ]
  },
  {
   "cell_type": "markdown",
   "metadata": {},
   "source": [
    "> Analysis:\n",
    "> - Neural network with gradient descent is having higher error as compared to matrix factorization with SVD. This is because SVD is able to reduce dimension of utility matrix, extract latent vector and facilitate a clearer representation of relationships between user and items as compared to neural network. \n",
    ">- Therefore, we will use SVD in our model instead. "
   ]
  },
  {
   "cell_type": "markdown",
   "metadata": {},
   "source": [
    "## Hybrid Model\n",
    "**Wisdom of crowds.** It is always better to balance our recommendations by including more sources of opinions. In this section, we are going to use a hybrid model taking in user ratings, game id and game descriptions. "
   ]
  },
  {
   "cell_type": "markdown",
   "metadata": {},
   "source": [
    "Before getting into feature rich recommender engine, let's build a model with user and game description to test it's performance. "
   ]
  },
  {
   "cell_type": "code",
   "execution_count": 91,
   "metadata": {
    "ExecuteTime": {
     "end_time": "2021-01-26T12:30:27.897220Z",
     "start_time": "2021-01-26T12:30:27.891784Z"
    }
   },
   "outputs": [],
   "source": [
    "game_list_mapping = combined[['name_clean']]"
   ]
  },
  {
   "cell_type": "code",
   "execution_count": 92,
   "metadata": {
    "ExecuteTime": {
     "end_time": "2021-01-26T12:30:27.903200Z",
     "start_time": "2021-01-26T12:30:27.898247Z"
    }
   },
   "outputs": [],
   "source": [
    "game_id_mapping2 = {id:i for i, id in enumerate(game_list_mapping['name_clean'].unique())}"
   ]
  },
  {
   "cell_type": "code",
   "execution_count": 93,
   "metadata": {
    "ExecuteTime": {
     "end_time": "2021-01-26T12:30:28.000933Z",
     "start_time": "2021-01-26T12:30:27.904234Z"
    }
   },
   "outputs": [
    {
     "name": "stderr",
     "output_type": "stream",
     "text": [
      "/Users/katherine/opt/anaconda3/envs/tf/lib/python3.7/site-packages/ipykernel_launcher.py:1: SettingWithCopyWarning: \n",
      "A value is trying to be set on a copy of a slice from a DataFrame.\n",
      "Try using .loc[row_indexer,col_indexer] = value instead\n",
      "\n",
      "See the caveats in the documentation: https://pandas.pydata.org/pandas-docs/stable/user_guide/indexing.html#returning-a-view-versus-a-copy\n",
      "  \"\"\"Entry point for launching an IPython kernel.\n"
     ]
    }
   ],
   "source": [
    "game_list_mapping['name_clean_map'] = game_list_mapping['name_clean'].map(game_id_mapping2)"
   ]
  },
  {
   "cell_type": "code",
   "execution_count": 94,
   "metadata": {
    "ExecuteTime": {
     "end_time": "2021-01-26T12:30:28.059512Z",
     "start_time": "2021-01-26T12:30:28.002492Z"
    }
   },
   "outputs": [],
   "source": [
    "# Create user- & movie-id mapping\n",
    "user_id_mapping = {id:i for i, id in enumerate(combined['userid'].unique())}\n",
    "game_id_mapping = {id:i for i, id in enumerate(combined['name_clean'].unique())}\n",
    "\n",
    "# Use mapping to get better ids\n",
    "combined['userid'] = combined['userid'].map(user_id_mapping)\n",
    "combined['name_clean'] = combined['name_clean'].map(game_id_mapping)"
   ]
  },
  {
   "cell_type": "code",
   "execution_count": 95,
   "metadata": {
    "ExecuteTime": {
     "end_time": "2021-01-26T12:30:28.128359Z",
     "start_time": "2021-01-26T12:30:28.060526Z"
    }
   },
   "outputs": [],
   "source": [
    "# Preprocess metadata\n",
    "game_descr = combined[['name_clean','description']].copy()\n",
    "game_descr = game_descr.set_index('name_clean', drop=True)"
   ]
  },
  {
   "cell_type": "code",
   "execution_count": 96,
   "metadata": {
    "ExecuteTime": {
     "end_time": "2021-01-26T12:30:28.134509Z",
     "start_time": "2021-01-26T12:30:28.129420Z"
    }
   },
   "outputs": [],
   "source": [
    "hybrid = combined[['name_clean', 'userid', 'user_score']]"
   ]
  },
  {
   "cell_type": "code",
   "execution_count": 97,
   "metadata": {
    "ExecuteTime": {
     "end_time": "2021-01-26T12:30:28.165365Z",
     "start_time": "2021-01-26T12:30:28.136047Z"
    }
   },
   "outputs": [],
   "source": [
    "# Split train- & testset\n",
    "n = 6000\n",
    "\n",
    "users_hybrid_train = hybrid[:n]\n",
    "users_hybrid_test = hybrid[-n:]\n",
    "    # Create user- & game-id mapping\n",
    "unique_user_ids = hybrid['userid'].unique()\n",
    "unique_game_ids = hybrid['name_clean'].unique()\n",
    "user_id_mapping = {id:i for i, id in enumerate(unique_user_ids)}\n",
    "game_id_mapping = {id:i for i, id in enumerate(unique_game_ids)}\n",
    "\n",
    "# Create correctly mapped train- & testset\n",
    "train_user_data = users_hybrid_train['userid'].map(user_id_mapping)\n",
    "train_game_data = users_hybrid_train['name_clean'].map(game_id_mapping)\n",
    "test_user_data = users_hybrid_test['userid'].map(user_id_mapping)\n",
    "test_game_data = users_hybrid_test['name_clean'].map(game_id_mapping)\n",
    "\n",
    "# Get input variable-sizes\n",
    "num_user = len(user_id_mapping)\n",
    "num_games = len(game_id_mapping)\n",
    "    \n",
    "    \n",
    "\n",
    "hybrid = hybrid.sample(frac=1).reset_index(drop=True)\n",
    "hybrid_train = hybrid[:n]\n",
    "hybrid_test = hybrid[-n:]"
   ]
  },
  {
   "cell_type": "code",
   "execution_count": 98,
   "metadata": {
    "ExecuteTime": {
     "end_time": "2021-01-26T12:30:32.169907Z",
     "start_time": "2021-01-26T12:30:28.166720Z"
    }
   },
   "outputs": [],
   "source": [
    "tfidf = TfidfVectorizer(stop_words='english')\n",
    "tfidf_hybrid = tfidf.fit_transform(combined['description'])"
   ]
  },
  {
   "cell_type": "code",
   "execution_count": 99,
   "metadata": {
    "ExecuteTime": {
     "end_time": "2021-01-26T12:30:32.774431Z",
     "start_time": "2021-01-26T12:30:32.170923Z"
    }
   },
   "outputs": [],
   "source": [
    "tfidf_mapping = {id:i for i, id in enumerate(game_descr.index)}\n",
    "\n",
    "train_tfidf = []\n",
    "# Iterate over all movie-ids and save the tfidf-vector\n",
    "for id in hybrid_train['name_clean'].values:\n",
    "#train_tfidf = hybrid_train['name_clean'].map(tfidf_mapping)\n",
    "    index = tfidf_mapping[id]\n",
    "    train_tfidf.append(tfidf_hybrid[index])\n",
    "    \n",
    "test_tfidf = []\n",
    "# Iterate over all movie-ids and save the tfidf-vector\n",
    "for id in hybrid_test['name_clean'].values:\n",
    "    index = tfidf_mapping[id]\n",
    "    test_tfidf.append(tfidf_hybrid[index])"
   ]
  },
  {
   "cell_type": "code",
   "execution_count": 100,
   "metadata": {
    "ExecuteTime": {
     "end_time": "2021-01-26T12:30:32.882013Z",
     "start_time": "2021-01-26T12:30:32.775400Z"
    }
   },
   "outputs": [],
   "source": [
    "# Stack the sparse matrices\n",
    "train_tfidf = vstack(train_tfidf)\n",
    "test_tfidf = vstack(test_tfidf)"
   ]
  },
  {
   "cell_type": "code",
   "execution_count": 101,
   "metadata": {
    "ExecuteTime": {
     "end_time": "2021-01-26T12:30:32.890695Z",
     "start_time": "2021-01-26T12:30:32.883063Z"
    }
   },
   "outputs": [],
   "source": [
    "user_embed = 32\n",
    "game_embed = 32\n",
    "tfidf_embed = 32\n",
    "\n",
    "# Create three input layers\n",
    "user_id_input = Input(shape=[1], name='user')\n",
    "game_id_input = Input(shape=[1], name='game')\n",
    "tfidf_input = Input(shape=[24494], name='tfidf')"
   ]
  },
  {
   "cell_type": "code",
   "execution_count": 102,
   "metadata": {
    "ExecuteTime": {
     "end_time": "2021-01-26T12:30:32.914848Z",
     "start_time": "2021-01-26T12:30:32.891772Z"
    }
   },
   "outputs": [],
   "source": [
    "# Create separate embeddings for users and movies\n",
    "user_embedding = Embedding(output_dim=user_embed, input_dim=len(user_id_mapping),\n",
    "                           input_length=1, name='user_embedding')(user_id_input)\n",
    "game_embedding = Embedding(output_dim=game_embed, input_dim=len(game_id_mapping),\n",
    "                           input_length=1, name='game_embedding')(game_id_input)"
   ]
  },
  {
   "cell_type": "code",
   "execution_count": 103,
   "metadata": {
    "ExecuteTime": {
     "end_time": "2021-01-26T12:30:33.007988Z",
     "start_time": "2021-01-26T12:30:32.915749Z"
    }
   },
   "outputs": [],
   "source": [
    "# Dimensionality reduction with Dense layers\n",
    "tfidf_vectors = Dense(128, activation='relu')(tfidf_input)\n",
    "tfidf_vectors = Dense(32, activation='relu')(tfidf_vectors)\n",
    "\n",
    "# Reshape both embedding layers\n",
    "user_vectors = Reshape([user_embed])(user_embedding)\n",
    "game_vectors = Reshape([game_embed])(game_embedding)"
   ]
  },
  {
   "cell_type": "code",
   "execution_count": 104,
   "metadata": {
    "ExecuteTime": {
     "end_time": "2021-01-26T12:30:33.011292Z",
     "start_time": "2021-01-26T12:30:33.008988Z"
    }
   },
   "outputs": [
    {
     "data": {
      "text/plain": [
       "TensorShape([None, 32])"
      ]
     },
     "execution_count": 104,
     "metadata": {},
     "output_type": "execute_result"
    }
   ],
   "source": [
    "tfidf_vectors.shape"
   ]
  },
  {
   "cell_type": "code",
   "execution_count": 105,
   "metadata": {
    "ExecuteTime": {
     "end_time": "2021-01-26T12:30:33.018113Z",
     "start_time": "2021-01-26T12:30:33.012246Z"
    }
   },
   "outputs": [],
   "source": [
    "y = Dot(1, normalize=False)([user_vectors, tfidf_vectors])"
   ]
  },
  {
   "cell_type": "code",
   "execution_count": 106,
   "metadata": {
    "ExecuteTime": {
     "end_time": "2021-01-26T12:30:33.021518Z",
     "start_time": "2021-01-26T12:30:33.019185Z"
    }
   },
   "outputs": [
    {
     "data": {
      "text/plain": [
       "TensorShape([None, 1])"
      ]
     },
     "execution_count": 106,
     "metadata": {},
     "output_type": "execute_result"
    }
   ],
   "source": [
    "y.shape"
   ]
  },
  {
   "cell_type": "code",
   "execution_count": 107,
   "metadata": {
    "ExecuteTime": {
     "end_time": "2021-01-26T12:30:33.025183Z",
     "start_time": "2021-01-26T12:30:33.022437Z"
    }
   },
   "outputs": [],
   "source": [
    "model = Model(inputs=[user_id_input, tfidf_input], outputs=y)"
   ]
  },
  {
   "cell_type": "code",
   "execution_count": 108,
   "metadata": {
    "ExecuteTime": {
     "end_time": "2021-01-26T12:30:41.834687Z",
     "start_time": "2021-01-26T12:30:33.032822Z"
    },
    "scrolled": true
   },
   "outputs": [
    {
     "name": "stdout",
     "output_type": "stream",
     "text": [
      "WARNING:tensorflow:Falling back from v2 loop because of error: Failed to find data adapter that can handle input: (<class 'list'> containing values of types {\"<class 'scipy.sparse.csr.csr_matrix'>\", \"<class 'pandas.core.series.Series'>\"}), <class 'NoneType'>\n",
      "Train on 5400 samples, validate on 600 samples\n",
      "Epoch 1/50\n",
      "5400/5400 [==============================] - 2s 380us/sample - loss: 1.6939 - val_loss: 1.6459\n",
      "Epoch 2/50\n",
      "5400/5400 [==============================] - 1s 218us/sample - loss: 1.6828 - val_loss: 1.6420\n",
      "Epoch 3/50\n",
      "5400/5400 [==============================] - 1s 217us/sample - loss: 1.5335 - val_loss: 1.5932\n",
      "Epoch 4/50\n",
      "5400/5400 [==============================] - 1s 225us/sample - loss: 0.9427 - val_loss: 1.5804\n",
      "Epoch 5/50\n",
      "5400/5400 [==============================] - 1s 221us/sample - loss: 0.5825 - val_loss: 1.5647\n",
      "Epoch 6/50\n",
      "5400/5400 [==============================] - 1s 220us/sample - loss: 0.4123 - val_loss: 1.5647\n",
      "Epoch 00006: early stopping\n"
     ]
    },
    {
     "data": {
      "text/plain": [
       "<tensorflow.python.keras.callbacks.History at 0x7fb3a05af250>"
      ]
     },
     "execution_count": 108,
     "metadata": {},
     "output_type": "execute_result"
    }
   ],
   "source": [
    "model.compile(loss='mae', optimizer='adam')\n",
    "es = EarlyStopping(monitor='val_loss', mode='min', verbose=1)\n",
    "\n",
    "# Fit model\n",
    "model.fit([train_user_data, train_tfidf], hybrid_train['user_score'].values,\n",
    "          batch_size=256, epochs=50, validation_split=0.1, callbacks=[es], shuffle=True)"
   ]
  },
  {
   "cell_type": "code",
   "execution_count": 109,
   "metadata": {
    "ExecuteTime": {
     "end_time": "2021-01-26T12:30:43.327541Z",
     "start_time": "2021-01-26T12:30:41.836318Z"
    }
   },
   "outputs": [
    {
     "name": "stdout",
     "output_type": "stream",
     "text": [
      "WARNING:tensorflow:Falling back from v2 loop because of error: Failed to find data adapter that can handle input: (<class 'list'> containing values of types {\"<class 'scipy.sparse.csr.csr_matrix'>\", \"<class 'pandas.core.series.Series'>\"}), <class 'NoneType'>\n"
     ]
    }
   ],
   "source": [
    "# Test model\n",
    "y_pred = model.predict([test_user_data, test_tfidf])\n",
    "y_true = hybrid_test['user_score'].values"
   ]
  },
  {
   "cell_type": "code",
   "execution_count": 110,
   "metadata": {
    "ExecuteTime": {
     "end_time": "2021-01-26T12:30:43.331020Z",
     "start_time": "2021-01-26T12:30:43.328570Z"
    },
    "scrolled": true
   },
   "outputs": [
    {
     "name": "stdout",
     "output_type": "stream",
     "text": [
      "\n",
      "\n",
      "Testing Result With Keras Matrix-Factorization: 1.1907 MAE\n"
     ]
    }
   ],
   "source": [
    "#  Compute MAE\n",
    "mae = mean_absolute_error(y_pred=y_pred, y_true=y_true)\n",
    "print('\\n\\nTesting Result With Keras Matrix-Factorization: {:.4f} MAE'.format(mae))"
   ]
  },
  {
   "cell_type": "markdown",
   "metadata": {},
   "source": [
    ">**Analysis:**\n",
    "> - It is observed that with user information and game description, predictions for user ratings are worse than the previous model when we use user and game ratings. "
   ]
  },
  {
   "cell_type": "markdown",
   "metadata": {},
   "source": [
    "**Now let's add game description to our model.**"
   ]
  },
  {
   "cell_type": "code",
   "execution_count": 111,
   "metadata": {
    "ExecuteTime": {
     "end_time": "2021-01-26T12:30:43.366982Z",
     "start_time": "2021-01-26T12:30:43.331976Z"
    }
   },
   "outputs": [],
   "source": [
    "# Concatenate all layers into one vector\n",
    "both = Concatenate()([user_vectors, game_vectors, tfidf_vectors])\n",
    "\n",
    "# Add dense layers for combinations and scalar output\n",
    "dense = Dense(512, activation='relu')(both)\n",
    "dense = Dropout(0.2)(dense)\n",
    "output = Dense(1)(dense)"
   ]
  },
  {
   "cell_type": "code",
   "execution_count": 112,
   "metadata": {
    "ExecuteTime": {
     "end_time": "2021-01-26T12:30:50.506138Z",
     "start_time": "2021-01-26T12:30:43.368237Z"
    }
   },
   "outputs": [
    {
     "name": "stdout",
     "output_type": "stream",
     "text": [
      "WARNING:tensorflow:Falling back from v2 loop because of error: Failed to find data adapter that can handle input: (<class 'list'> containing values of types {\"<class 'scipy.sparse.csr.csr_matrix'>\", \"<class 'pandas.core.series.Series'>\"}), <class 'NoneType'>\n",
      "Train on 5400 samples, validate on 600 samples\n",
      "Epoch 1/50\n",
      "5400/5400 [==============================] - 2s 358us/sample - loss: 1.2304 - val_loss: 0.6607\n",
      "Epoch 2/50\n",
      "5400/5400 [==============================] - 1s 211us/sample - loss: 0.8733 - val_loss: 0.6358\n",
      "Epoch 3/50\n",
      "5400/5400 [==============================] - 1s 209us/sample - loss: 0.7508 - val_loss: 0.6317\n",
      "Epoch 4/50\n",
      "5400/5400 [==============================] - 1s 209us/sample - loss: 0.7135 - val_loss: 0.6303\n",
      "Epoch 5/50\n",
      "5400/5400 [==============================] - 1s 210us/sample - loss: 0.6664 - val_loss: 0.6367\n",
      "Epoch 00005: early stopping\n"
     ]
    },
    {
     "data": {
      "text/plain": [
       "<tensorflow.python.keras.callbacks.History at 0x7fb3241eb950>"
      ]
     },
     "execution_count": 112,
     "metadata": {},
     "output_type": "execute_result"
    }
   ],
   "source": [
    "# Create and compile model\n",
    "model = Model(inputs=[user_id_input, game_id_input, tfidf_input], outputs=output)\n",
    "model.compile(loss='mae', optimizer='adam')\n",
    "es = EarlyStopping(monitor='val_loss', mode='min', verbose=1)\n",
    "\n",
    "# Train and test the network\n",
    "model.fit([hybrid_train['userid'], hybrid_train['name_clean'], train_tfidf],\n",
    "          hybrid_train['user_score'].values,\n",
    "          batch_size=1024, epochs=50, validation_split=0.1, callbacks=[es], shuffle=True)"
   ]
  },
  {
   "cell_type": "code",
   "execution_count": 113,
   "metadata": {
    "ExecuteTime": {
     "end_time": "2021-01-26T12:30:53.686840Z",
     "start_time": "2021-01-26T12:30:53.678350Z"
    }
   },
   "outputs": [
    {
     "name": "stdout",
     "output_type": "stream",
     "text": [
      "Model: \"model_2\"\n",
      "__________________________________________________________________________________________________\n",
      "Layer (type)                    Output Shape         Param #     Connected to                     \n",
      "==================================================================================================\n",
      "user (InputLayer)               [(None, 1)]          0                                            \n",
      "__________________________________________________________________________________________________\n",
      "game (InputLayer)               [(None, 1)]          0                                            \n",
      "__________________________________________________________________________________________________\n",
      "tfidf (InputLayer)              [(None, 24494)]      0                                            \n",
      "__________________________________________________________________________________________________\n",
      "user_embedding (Embedding)      (None, 1, 32)        307008      user[0][0]                       \n",
      "__________________________________________________________________________________________________\n",
      "game_embedding (Embedding)      (None, 1, 32)        64384       game[0][0]                       \n",
      "__________________________________________________________________________________________________\n",
      "dense (Dense)                   (None, 128)          3135360     tfidf[0][0]                      \n",
      "__________________________________________________________________________________________________\n",
      "reshape_2 (Reshape)             (None, 32)           0           user_embedding[0][0]             \n",
      "__________________________________________________________________________________________________\n",
      "reshape_3 (Reshape)             (None, 32)           0           game_embedding[0][0]             \n",
      "__________________________________________________________________________________________________\n",
      "dense_1 (Dense)                 (None, 32)           4128        dense[0][0]                      \n",
      "__________________________________________________________________________________________________\n",
      "concatenate (Concatenate)       (None, 96)           0           reshape_2[0][0]                  \n",
      "                                                                 reshape_3[0][0]                  \n",
      "                                                                 dense_1[0][0]                    \n",
      "__________________________________________________________________________________________________\n",
      "dense_2 (Dense)                 (None, 512)          49664       concatenate[0][0]                \n",
      "__________________________________________________________________________________________________\n",
      "dropout (Dropout)               (None, 512)          0           dense_2[0][0]                    \n",
      "__________________________________________________________________________________________________\n",
      "dense_3 (Dense)                 (None, 1)            513         dropout[0][0]                    \n",
      "==================================================================================================\n",
      "Total params: 3,561,057\n",
      "Trainable params: 3,561,057\n",
      "Non-trainable params: 0\n",
      "__________________________________________________________________________________________________\n"
     ]
    }
   ],
   "source": [
    "model.summary()"
   ]
  },
  {
   "cell_type": "code",
   "execution_count": 73,
   "metadata": {
    "ExecuteTime": {
     "end_time": "2021-01-25T14:14:54.416089Z",
     "start_time": "2021-01-25T14:14:52.727827Z"
    }
   },
   "outputs": [
    {
     "name": "stdout",
     "output_type": "stream",
     "text": [
      "WARNING:tensorflow:Falling back from v2 loop because of error: Failed to find data adapter that can handle input: (<class 'list'> containing values of types {\"<class 'scipy.sparse.csr.csr_matrix'>\", \"<class 'pandas.core.series.Series'>\"}), <class 'NoneType'>\n"
     ]
    }
   ],
   "source": [
    "y_pred = model.predict([hybrid_test['userid'], hybrid_test['name_clean'], test_tfidf])\n",
    "y_true = hybrid_test['user_score'].values"
   ]
  },
  {
   "cell_type": "code",
   "execution_count": 74,
   "metadata": {
    "ExecuteTime": {
     "end_time": "2021-01-25T14:14:54.421706Z",
     "start_time": "2021-01-25T14:14:54.417074Z"
    }
   },
   "outputs": [
    {
     "name": "stdout",
     "output_type": "stream",
     "text": [
      "\n",
      "\n",
      "Testing Result With Keras Hybrid Deep Learning: 0.6405 MAE\n"
     ]
    }
   ],
   "source": [
    "hybrid_error = mean_absolute_error(y_pred=y_pred, y_true=y_true)\n",
    "print('\\n\\nTesting Result With Keras Hybrid Deep Learning: {:.4f} MAE'.format(hybrid_error))"
   ]
  },
  {
   "cell_type": "markdown",
   "metadata": {},
   "source": [
    "- Let's make some recommendations to our users"
   ]
  },
  {
   "cell_type": "code",
   "execution_count": 75,
   "metadata": {
    "ExecuteTime": {
     "end_time": "2021-01-25T14:14:54.425128Z",
     "start_time": "2021-01-25T14:14:54.422653Z"
    }
   },
   "outputs": [],
   "source": [
    "predicted_ratings = hybrid_test.copy()"
   ]
  },
  {
   "cell_type": "code",
   "execution_count": 76,
   "metadata": {
    "ExecuteTime": {
     "end_time": "2021-01-25T14:14:54.912916Z",
     "start_time": "2021-01-25T14:14:54.426143Z"
    }
   },
   "outputs": [],
   "source": [
    "game_list_mapping_dict ={}\n",
    "for num in list(game_list_mapping['name_clean_map'].unique()):\n",
    "    game_list_mapping_dict[num]=game_list_mapping[game_list_mapping['name_clean_map']==num]['name_clean']"
   ]
  },
  {
   "cell_type": "code",
   "execution_count": 77,
   "metadata": {
    "ExecuteTime": {
     "end_time": "2021-01-25T14:14:54.922287Z",
     "start_time": "2021-01-25T14:14:54.913860Z"
    }
   },
   "outputs": [],
   "source": [
    "predicted_ratings['name'] = predicted_ratings['name_clean'].apply(lambda x: game_list_mapping_dict[x].values[0])"
   ]
  },
  {
   "cell_type": "code",
   "execution_count": 78,
   "metadata": {
    "ExecuteTime": {
     "end_time": "2021-01-25T14:14:54.925319Z",
     "start_time": "2021-01-25T14:14:54.923203Z"
    }
   },
   "outputs": [],
   "source": [
    "predicted_ratings['pred_ratings'] = y_pred"
   ]
  },
  {
   "cell_type": "code",
   "execution_count": 79,
   "metadata": {
    "ExecuteTime": {
     "end_time": "2021-01-25T14:14:54.935604Z",
     "start_time": "2021-01-25T14:14:54.926296Z"
    }
   },
   "outputs": [
    {
     "data": {
      "text/html": [
       "<div>\n",
       "<style scoped>\n",
       "    .dataframe tbody tr th:only-of-type {\n",
       "        vertical-align: middle;\n",
       "    }\n",
       "\n",
       "    .dataframe tbody tr th {\n",
       "        vertical-align: top;\n",
       "    }\n",
       "\n",
       "    .dataframe thead th {\n",
       "        text-align: right;\n",
       "    }\n",
       "</style>\n",
       "<table border=\"1\" class=\"dataframe\">\n",
       "  <thead>\n",
       "    <tr style=\"text-align: right;\">\n",
       "      <th></th>\n",
       "      <th>name_clean</th>\n",
       "      <th>userid</th>\n",
       "      <th>user_score</th>\n",
       "      <th>name</th>\n",
       "      <th>pred_ratings</th>\n",
       "    </tr>\n",
       "  </thead>\n",
       "  <tbody>\n",
       "    <tr>\n",
       "      <th>37944</th>\n",
       "      <td>708</td>\n",
       "      <td>1151</td>\n",
       "      <td>0.000178</td>\n",
       "      <td>Proteus</td>\n",
       "      <td>0.026518</td>\n",
       "    </tr>\n",
       "    <tr>\n",
       "      <th>40764</th>\n",
       "      <td>708</td>\n",
       "      <td>5644</td>\n",
       "      <td>0.297029</td>\n",
       "      <td>Proteus</td>\n",
       "      <td>0.074365</td>\n",
       "    </tr>\n",
       "    <tr>\n",
       "      <th>37054</th>\n",
       "      <td>798</td>\n",
       "      <td>5766</td>\n",
       "      <td>0.689444</td>\n",
       "      <td>WORLD END ECONOMiCA episode 01</td>\n",
       "      <td>0.238471</td>\n",
       "    </tr>\n",
       "    <tr>\n",
       "      <th>42404</th>\n",
       "      <td>1410</td>\n",
       "      <td>4899</td>\n",
       "      <td>2.173700</td>\n",
       "      <td>AaAaAA A Reckless Disregard for Gravity</td>\n",
       "      <td>0.347779</td>\n",
       "    </tr>\n",
       "    <tr>\n",
       "      <th>38716</th>\n",
       "      <td>574</td>\n",
       "      <td>7712</td>\n",
       "      <td>0.297029</td>\n",
       "      <td>I Have No Mouth and I Must Scream</td>\n",
       "      <td>0.375354</td>\n",
       "    </tr>\n",
       "    <tr>\n",
       "      <th>...</th>\n",
       "      <td>...</td>\n",
       "      <td>...</td>\n",
       "      <td>...</td>\n",
       "      <td>...</td>\n",
       "      <td>...</td>\n",
       "    </tr>\n",
       "    <tr>\n",
       "      <th>39094</th>\n",
       "      <td>0</td>\n",
       "      <td>1329</td>\n",
       "      <td>2.110351</td>\n",
       "      <td>Counter Strike Global Offensive</td>\n",
       "      <td>2.952793</td>\n",
       "    </tr>\n",
       "    <tr>\n",
       "      <th>41108</th>\n",
       "      <td>0</td>\n",
       "      <td>4</td>\n",
       "      <td>1.716380</td>\n",
       "      <td>Counter Strike Global Offensive</td>\n",
       "      <td>2.959100</td>\n",
       "    </tr>\n",
       "    <tr>\n",
       "      <th>38811</th>\n",
       "      <td>0</td>\n",
       "      <td>1141</td>\n",
       "      <td>4.235245</td>\n",
       "      <td>Counter Strike Global Offensive</td>\n",
       "      <td>2.961461</td>\n",
       "    </tr>\n",
       "    <tr>\n",
       "      <th>38387</th>\n",
       "      <td>2</td>\n",
       "      <td>345</td>\n",
       "      <td>3.270115</td>\n",
       "      <td>Rust</td>\n",
       "      <td>2.963229</td>\n",
       "    </tr>\n",
       "    <tr>\n",
       "      <th>42024</th>\n",
       "      <td>0</td>\n",
       "      <td>990</td>\n",
       "      <td>2.799617</td>\n",
       "      <td>Counter Strike Global Offensive</td>\n",
       "      <td>2.972622</td>\n",
       "    </tr>\n",
       "  </tbody>\n",
       "</table>\n",
       "<p>6000 rows × 5 columns</p>\n",
       "</div>"
      ],
      "text/plain": [
       "       name_clean  userid  user_score  \\\n",
       "37944         708    1151    0.000178   \n",
       "40764         708    5644    0.297029   \n",
       "37054         798    5766    0.689444   \n",
       "42404        1410    4899    2.173700   \n",
       "38716         574    7712    0.297029   \n",
       "...           ...     ...         ...   \n",
       "39094           0    1329    2.110351   \n",
       "41108           0       4    1.716380   \n",
       "38811           0    1141    4.235245   \n",
       "38387           2     345    3.270115   \n",
       "42024           0     990    2.799617   \n",
       "\n",
       "                                          name  pred_ratings  \n",
       "37944                                  Proteus      0.026518  \n",
       "40764                                  Proteus      0.074365  \n",
       "37054           WORLD END ECONOMiCA episode 01      0.238471  \n",
       "42404  AaAaAA A Reckless Disregard for Gravity      0.347779  \n",
       "38716        I Have No Mouth and I Must Scream      0.375354  \n",
       "...                                        ...           ...  \n",
       "39094          Counter Strike Global Offensive      2.952793  \n",
       "41108          Counter Strike Global Offensive      2.959100  \n",
       "38811          Counter Strike Global Offensive      2.961461  \n",
       "38387                                     Rust      2.963229  \n",
       "42024          Counter Strike Global Offensive      2.972622  \n",
       "\n",
       "[6000 rows x 5 columns]"
      ]
     },
     "execution_count": 79,
     "metadata": {},
     "output_type": "execute_result"
    }
   ],
   "source": [
    "predicted_ratings.sort_values(by='pred_ratings')"
   ]
  },
  {
   "cell_type": "code",
   "execution_count": 80,
   "metadata": {
    "ExecuteTime": {
     "end_time": "2021-01-25T14:14:54.939021Z",
     "start_time": "2021-01-25T14:14:54.936517Z"
    }
   },
   "outputs": [],
   "source": [
    "def get_top_k(df, userid):\n",
    "    ratings = df[df['userid']==userid]\n",
    "    ratings.sort_values(by='pred_ratings', ascending=False)\n",
    "    for num, idx in enumerate(ratings[:5].index):\n",
    "        print(f\"Recommendation {num+1}: {ratings.loc[idx]['name']}\")"
   ]
  },
  {
   "cell_type": "code",
   "execution_count": 81,
   "metadata": {
    "ExecuteTime": {
     "end_time": "2021-01-25T14:14:54.943392Z",
     "start_time": "2021-01-25T14:14:54.940019Z"
    }
   },
   "outputs": [
    {
     "name": "stdout",
     "output_type": "stream",
     "text": [
      "Recommendation 1: PAYDAY 2\n",
      "Recommendation 2: The Wolf Among Us\n",
      "Recommendation 3: Tropico 4\n",
      "Recommendation 4: LUFTRAUSERS\n",
      "Recommendation 5: Psychonauts\n"
     ]
    }
   ],
   "source": [
    "get_top_k(predicted_ratings, 1232)"
   ]
  },
  {
   "cell_type": "code",
   "execution_count": 124,
   "metadata": {
    "ExecuteTime": {
     "end_time": "2021-01-25T14:59:09.907388Z",
     "start_time": "2021-01-25T14:59:09.886818Z"
    }
   },
   "outputs": [
    {
     "data": {
      "text/html": [
       "<div>\n",
       "<style scoped>\n",
       "    .dataframe tbody tr th:only-of-type {\n",
       "        vertical-align: middle;\n",
       "    }\n",
       "\n",
       "    .dataframe tbody tr th {\n",
       "        vertical-align: top;\n",
       "    }\n",
       "\n",
       "    .dataframe thead th {\n",
       "        text-align: right;\n",
       "    }\n",
       "</style>\n",
       "<table border=\"1\" class=\"dataframe\">\n",
       "  <thead>\n",
       "    <tr style=\"text-align: right;\">\n",
       "      <th></th>\n",
       "      <th>userid</th>\n",
       "      <th>name</th>\n",
       "      <th>user_score</th>\n",
       "    </tr>\n",
       "  </thead>\n",
       "  <tbody>\n",
       "    <tr>\n",
       "      <th>41501</th>\n",
       "      <td>1232</td>\n",
       "      <td>BioShock Infinite</td>\n",
       "      <td>2.787020</td>\n",
       "    </tr>\n",
       "    <tr>\n",
       "      <th>36843</th>\n",
       "      <td>1232</td>\n",
       "      <td>Tropico 4</td>\n",
       "      <td>2.520993</td>\n",
       "    </tr>\n",
       "    <tr>\n",
       "      <th>40370</th>\n",
       "      <td>1232</td>\n",
       "      <td>XCOM Enemy Unknown</td>\n",
       "      <td>2.508929</td>\n",
       "    </tr>\n",
       "    <tr>\n",
       "      <th>39941</th>\n",
       "      <td>1232</td>\n",
       "      <td>Saints Row The Third</td>\n",
       "      <td>2.470551</td>\n",
       "    </tr>\n",
       "    <tr>\n",
       "      <th>39793</th>\n",
       "      <td>1232</td>\n",
       "      <td>Recettear An Item Shop s Tale</td>\n",
       "      <td>2.347346</td>\n",
       "    </tr>\n",
       "  </tbody>\n",
       "</table>\n",
       "</div>"
      ],
      "text/plain": [
       "       userid                           name  user_score\n",
       "41501    1232              BioShock Infinite    2.787020\n",
       "36843    1232                      Tropico 4    2.520993\n",
       "40370    1232             XCOM Enemy Unknown    2.508929\n",
       "39941    1232           Saints Row The Third    2.470551\n",
       "39793    1232  Recettear An Item Shop s Tale    2.347346"
      ]
     },
     "execution_count": 124,
     "metadata": {},
     "output_type": "execute_result"
    }
   ],
   "source": [
    "predicted_ratings[predicted_ratings['userid']==1232][['userid', 'name', 'user_score']].sort_values(by='user_score',ascending=False)[:5]"
   ]
  },
  {
   "cell_type": "code",
   "execution_count": 135,
   "metadata": {
    "ExecuteTime": {
     "end_time": "2021-01-25T15:04:20.060036Z",
     "start_time": "2021-01-25T15:04:20.044365Z"
    }
   },
   "outputs": [
    {
     "name": "stdout",
     "output_type": "stream",
     "text": [
      "Recommendation 1: Overgrowth\n",
      "Recommendation 2: Space Pirates and Zombies\n",
      "Recommendation 3: Miasmata\n",
      "Recommendation 4: Intrusion 2\n",
      "Recommendation 5: Portal\n"
     ]
    }
   ],
   "source": [
    "get_top_k(predicted_ratings, 5644)"
   ]
  },
  {
   "cell_type": "code",
   "execution_count": 136,
   "metadata": {
    "ExecuteTime": {
     "end_time": "2021-01-25T15:04:24.013054Z",
     "start_time": "2021-01-25T15:04:23.991972Z"
    }
   },
   "outputs": [
    {
     "data": {
      "text/html": [
       "<div>\n",
       "<style scoped>\n",
       "    .dataframe tbody tr th:only-of-type {\n",
       "        vertical-align: middle;\n",
       "    }\n",
       "\n",
       "    .dataframe tbody tr th {\n",
       "        vertical-align: top;\n",
       "    }\n",
       "\n",
       "    .dataframe thead th {\n",
       "        text-align: right;\n",
       "    }\n",
       "</style>\n",
       "<table border=\"1\" class=\"dataframe\">\n",
       "  <thead>\n",
       "    <tr style=\"text-align: right;\">\n",
       "      <th></th>\n",
       "      <th>userid</th>\n",
       "      <th>name</th>\n",
       "      <th>user_score</th>\n",
       "    </tr>\n",
       "  </thead>\n",
       "  <tbody>\n",
       "    <tr>\n",
       "      <th>39656</th>\n",
       "      <td>5644</td>\n",
       "      <td>Grand Theft Auto V</td>\n",
       "      <td>2.893939</td>\n",
       "    </tr>\n",
       "    <tr>\n",
       "      <th>40856</th>\n",
       "      <td>5644</td>\n",
       "      <td>Saints Row The Third</td>\n",
       "      <td>2.508929</td>\n",
       "    </tr>\n",
       "    <tr>\n",
       "      <th>40727</th>\n",
       "      <td>5644</td>\n",
       "      <td>Far Cry 3</td>\n",
       "      <td>2.508929</td>\n",
       "    </tr>\n",
       "    <tr>\n",
       "      <th>37094</th>\n",
       "      <td>5644</td>\n",
       "      <td>Space Pirates and Zombies</td>\n",
       "      <td>2.347346</td>\n",
       "    </tr>\n",
       "    <tr>\n",
       "      <th>40630</th>\n",
       "      <td>5644</td>\n",
       "      <td>Rebuild 3 Gangs of Deadsville</td>\n",
       "      <td>1.897744</td>\n",
       "    </tr>\n",
       "  </tbody>\n",
       "</table>\n",
       "</div>"
      ],
      "text/plain": [
       "       userid                           name  user_score\n",
       "39656    5644             Grand Theft Auto V    2.893939\n",
       "40856    5644           Saints Row The Third    2.508929\n",
       "40727    5644                      Far Cry 3    2.508929\n",
       "37094    5644      Space Pirates and Zombies    2.347346\n",
       "40630    5644  Rebuild 3 Gangs of Deadsville    1.897744"
      ]
     },
     "execution_count": 136,
     "metadata": {},
     "output_type": "execute_result"
    }
   ],
   "source": [
    "predicted_ratings[predicted_ratings['userid']==5644][['userid', 'name', 'user_score']].sort_values(by='user_score',ascending=False)[:5]"
   ]
  },
  {
   "cell_type": "code",
   "execution_count": 82,
   "metadata": {
    "ExecuteTime": {
     "end_time": "2021-01-25T14:14:54.950469Z",
     "start_time": "2021-01-25T14:14:54.945055Z"
    }
   },
   "outputs": [],
   "source": [
    "def precision_at_k_hybrid(prediction_df, threshold=2.0):\n",
    "    \"\"\"Return precisionfor each user\"\"\"\n",
    "    precisions = dict()\n",
    "    n_rec=0\n",
    "    n_rel_and_rec_5 = 0\n",
    "    unique_users = list(prediction_df['userid'].unique())\n",
    "    for user in unique_users:\n",
    "        user_df_5 = prediction_df[prediction_df['userid']==user].sort_values(by='pred_ratings', ascending=False)[:5]\n",
    "        \n",
    "        # Number of relevant and recommended items in top k\n",
    "        for idx in list(user_df_5.index):\n",
    "            if (user_df_5.loc[idx]['pred_ratings']>=threshold) & (user_df_5.loc[idx]['user_score']>=threshold):\n",
    "                n_rel_and_rec_5 += 1\n",
    "            else:\n",
    "                n_rel_and_rec_5 += 0\n",
    "        \n",
    "        # Number of recommended items:\n",
    "            if user_df_5.loc[idx]['pred_ratings']>=threshold:\n",
    "                n_rec += 1\n",
    "            else:\n",
    "                n_rec += 0\n",
    "        precisions[user] = n_rel_and_rec_5/n_rec if n_rec!=0 else 0\n",
    "    return precisions"
   ]
  },
  {
   "cell_type": "code",
   "execution_count": 83,
   "metadata": {
    "ExecuteTime": {
     "end_time": "2021-01-25T14:14:57.487155Z",
     "start_time": "2021-01-25T14:14:54.951821Z"
    }
   },
   "outputs": [],
   "source": [
    "precision_dictionary_hybrid = precision_at_k_hybrid(predicted_ratings)"
   ]
  },
  {
   "cell_type": "code",
   "execution_count": 84,
   "metadata": {
    "ExecuteTime": {
     "end_time": "2021-01-25T14:14:57.490342Z",
     "start_time": "2021-01-25T14:14:57.488125Z"
    }
   },
   "outputs": [
    {
     "data": {
      "text/plain": [
       "0.6081552237258504"
      ]
     },
     "execution_count": 84,
     "metadata": {},
     "output_type": "execute_result"
    }
   ],
   "source": [
    "hybrid_avg_precision = sum(precision_dictionary_hybrid.values())/len(precision_dictionary_hybrid.values())\n",
    "hybrid_avg_precision"
   ]
  },
  {
   "cell_type": "code",
   "execution_count": 85,
   "metadata": {
    "ExecuteTime": {
     "end_time": "2021-01-25T14:14:57.493204Z",
     "start_time": "2021-01-25T14:14:57.491130Z"
    }
   },
   "outputs": [
    {
     "data": {
      "text/plain": [
       "0.6470588235294118"
      ]
     },
     "execution_count": 85,
     "metadata": {},
     "output_type": "execute_result"
    }
   ],
   "source": [
    "precision_dictionary_hybrid[1232]"
   ]
  },
  {
   "cell_type": "code",
   "execution_count": 137,
   "metadata": {
    "ExecuteTime": {
     "end_time": "2021-01-25T15:05:57.193198Z",
     "start_time": "2021-01-25T15:05:57.182090Z"
    }
   },
   "outputs": [
    {
     "data": {
      "text/plain": [
       "0.5824742268041238"
      ]
     },
     "execution_count": 137,
     "metadata": {},
     "output_type": "execute_result"
    }
   ],
   "source": [
    "precision_dictionary_hybrid[5644]"
   ]
  },
  {
   "cell_type": "markdown",
   "metadata": {},
   "source": [
    "## Conclusion"
   ]
  },
  {
   "cell_type": "code",
   "execution_count": 86,
   "metadata": {
    "ExecuteTime": {
     "end_time": "2021-01-25T14:14:57.496067Z",
     "start_time": "2021-01-25T14:14:57.494074Z"
    }
   },
   "outputs": [
    {
     "name": "stdout",
     "output_type": "stream",
     "text": [
      "Collaborative Filtering MAE: 0.55\n",
      "           Hybrid Model MAE: 0.64\n"
     ]
    }
   ],
   "source": [
    "print(f'Collaborative Filtering MAE: {round(cf_error,2)}')\n",
    "print(f'           Hybrid Model MAE: {round(hybrid_error,2)}')"
   ]
  },
  {
   "cell_type": "code",
   "execution_count": 87,
   "metadata": {
    "ExecuteTime": {
     "end_time": "2021-01-25T14:14:57.499206Z",
     "start_time": "2021-01-25T14:14:57.497140Z"
    }
   },
   "outputs": [
    {
     "name": "stdout",
     "output_type": "stream",
     "text": [
      "Collaborative Filtering Average Precision: 37.49%\n",
      "           Hybrid Model Average Precision: 60.82%\n"
     ]
    }
   ],
   "source": [
    "print(f'Collaborative Filtering Average Precision: {round(cf_avg_precision*100,2)}%')\n",
    "print(f'           Hybrid Model Average Precision: {round(hybrid_avg_precision*100,2)}%')"
   ]
  },
  {
   "cell_type": "markdown",
   "metadata": {},
   "source": [
    ">**Model Comparison:**<br>\n",
    "\n",
    ">- Collaborative filtering gives us an error of 0.55 from true user scores for games. Hybrid model is having slightly larger error of 0.65 from true user scores for games. (game score has a range from 0 to 5)<br>\n",
    ">- However, if we take a look at the average precision, hybrid model has close to twice the precision as compared to collaborative filtering model. This proofs our point above that including more sources of recommendations and gather wisdoms of crowds by analyzing both user rating and game description, we are able to suggest games which are more similar to the game input by users. \n",
    ">-Therefore, **hybrid model** is a better recommender engine. "
   ]
  },
  {
   "cell_type": "markdown",
   "metadata": {},
   "source": [
    ">**Limitations and Future Work:**:\n",
    "\n",
    ">- **Limitations:**\n",
    "    1. The proposed hybrid model only has three features, user id, user ratings and game descriptions. A better performed model can be built using more features. \n",
    "    2. The proposed model works well on smaller datasets. However, when our utility matrix gets too large and too sparse, performance of recommender system might not be as well.  <br>\n",
    "    \n",
    ">- **Future Work:**\n",
    "    1. This model could be improved by including more input layers consisting of other game features such as owner count, average playtime etc to make predictions and recommendations more accurate. \n",
    "    2. We can consider time element in our future versions of recommender engine. Recent reviews and ratings should carry a higher weight as compared to older reviews and ratings. This is to capture user's change of preference and make our predictions more accurate. \n",
    "    3. We want to find a way to speed up our recommender engine. The current recommender system could take couple of minutes before it can produce any recommendations. However, this is not acceptable in production environment, simply due to the fact that user would lost interest while waiting for our recommendations. "
   ]
  },
  {
   "cell_type": "code",
   "execution_count": null,
   "metadata": {},
   "outputs": [],
   "source": []
  }
 ],
 "metadata": {
  "kernelspec": {
   "display_name": "Python 3",
   "language": "python",
   "name": "python3"
  },
  "language_info": {
   "codemirror_mode": {
    "name": "ipython",
    "version": 3
   },
   "file_extension": ".py",
   "mimetype": "text/x-python",
   "name": "python",
   "nbconvert_exporter": "python",
   "pygments_lexer": "ipython3",
   "version": "3.8.3"
  },
  "toc": {
   "base_numbering": 1,
   "nav_menu": {},
   "number_sections": true,
   "sideBar": true,
   "skip_h1_title": true,
   "title_cell": "Table of Contents",
   "title_sidebar": "Contents",
   "toc_cell": false,
   "toc_position": {
    "height": "calc(100% - 180px)",
    "left": "10px",
    "top": "150px",
    "width": "194.146px"
   },
   "toc_section_display": true,
   "toc_window_display": true
  }
 },
 "nbformat": 4,
 "nbformat_minor": 4
}
